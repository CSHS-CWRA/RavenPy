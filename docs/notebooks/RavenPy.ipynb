{
 "cells": [
  {
   "cell_type": "markdown",
   "metadata": {},
   "source": [
    "# The RavenPy interface to Raven\n",
    "\n",
    "RavenPy can be used to call Raven from Python. At its most basic, existing configuration files can be used to launch Raven, but RavenPy is most useful when leveraging its templating system to configure models interactively.\n",
    "\n",
    "## Basic usage using pre-existing configuration files\n",
    "\n",
    "The simplest way to existing Raven users to use the wrapper is to pass existing configuration files to the `Raven` class."
   ]
  },
  {
   "cell_type": "code",
   "execution_count": null,
   "metadata": {},
   "outputs": [],
   "source": [
    "from glob import glob\n",
    "from pathlib import Path\n",
    "\n",
    "# Needs to be absolute path.\n",
    "# TODO: Add health check to make sure file exists.\n",
    "TESTDIR = Path(\"/home/david/src/raven/tests/testdata/\")\n",
    "config = list((TESTDIR / \"raven-gr4j-cemaneige\").glob(\"*.rv?\"))\n",
    "forcing = TESTDIR / \"raven-gr4j-cemaneige\" / \"Salmon-River-Near-Prince-George_meteo_daily.nc\"\n",
    "tuple(config)"
   ]
  },
  {
   "cell_type": "code",
   "execution_count": null,
   "metadata": {},
   "outputs": [],
   "source": [
    "from raven.models import Raven\n",
    "model = Raven()\n",
    "model.configure(config)\n",
    "model(forcing)"
   ]
  },
  {
   "cell_type": "code",
   "execution_count": null,
   "metadata": {},
   "outputs": [],
   "source": [
    "model.hydrograph"
   ]
  },
  {
   "cell_type": "code",
   "execution_count": null,
   "metadata": {},
   "outputs": [],
   "source": [
    "model.q_sim.plot()"
   ]
  },
  {
   "cell_type": "markdown",
   "metadata": {},
   "source": [
    "## Using templated model emulators\n",
    "\n",
    "Raven's framework can be used to emulate existing hydrological models. The Python wrapper offers at present 4 emulated models: GR4J-CemaNeige, HMETS, MOHYSE and HBV-EC. For each of these, templated configuration files are available to facilitate launching the model with options passed by Python at run-time."
   ]
  },
  {
   "cell_type": "code",
   "execution_count": null,
   "metadata": {},
   "outputs": [],
   "source": [
    "import datetime as dt\n",
    "from raven.models import GR4JCN, HMETS, MOHYSE, HBVEC\n",
    "model = GR4JCN()\n",
    "model(\n",
    "    forcing,\n",
    "    start_date=dt.datetime(2000, 1, 1),\n",
    "    end_date=dt.datetime(2002, 1, 1),\n",
    "    area=4250.6,\n",
    "    elevation=843.0,\n",
    "    latitude=54.4848,\n",
    "    longitude=-123.3659,\n",
    "    params=(0.529, -3.396, 407.29, 1.072, 16.9, 0.947),\n",
    ")"
   ]
  },
  {
   "cell_type": "code",
   "execution_count": null,
   "metadata": {},
   "outputs": [],
   "source": [
    "model.q_sim.plot()"
   ]
  },
  {
   "cell_type": "markdown",
   "metadata": {},
   "source": [
    "Along with simulated discharge, Raven also outputs internal storage variables."
   ]
  },
  {
   "cell_type": "code",
   "execution_count": null,
   "metadata": {},
   "outputs": [],
   "source": [
    "model.storage"
   ]
  },
  {
   "cell_type": "code",
   "execution_count": null,
   "metadata": {},
   "outputs": [],
   "source": []
  }
 ],
 "metadata": {
  "kernelspec": {
   "display_name": "Python 3",
   "language": "python",
   "name": "python3"
  },
  "language_info": {
   "codemirror_mode": {
    "name": "ipython",
    "version": 3
   },
   "file_extension": ".py",
   "mimetype": "text/x-python",
   "name": "python",
   "nbconvert_exporter": "python",
   "pygments_lexer": "ipython3",
   "version": "3.6.7"
  }
 },
 "nbformat": 4,
 "nbformat_minor": 2
}
