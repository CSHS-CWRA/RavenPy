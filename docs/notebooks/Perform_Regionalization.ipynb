{
 "cells": [
  {
   "cell_type": "markdown",
   "metadata": {},
   "source": [
    "# Perform regionalization when no parameter set is available\n",
    "\n",
    "Here we call the Regionalization WPS service to provide estimated streamflow (best estimate and ensemble) at an ungauged site using three pre-calibrated hydrological models and a large hydrometeorological database with catchment attributes (Extended CANOPEX). Multiple regionalization strategies are allowed. "
   ]
  },
  {
   "cell_type": "code",
   "execution_count": null,
   "metadata": {
    "execution": {
     "iopub.execute_input": "2021-09-08T20:36:25.297511Z",
     "iopub.status.busy": "2021-09-08T20:36:25.291877Z",
     "iopub.status.idle": "2021-09-08T20:36:27.317135Z",
     "shell.execute_reply": "2021-09-08T20:36:27.315889Z"
    }
   },
   "outputs": [],
   "source": [
    "import datetime as dt\n",
    "\n",
    "import numpy as np\n",
    "import xarray as xr\n",
    "from matplotlib import pyplot as plt\n",
    "\n",
    "from ravenpy import Emulator\n",
    "from ravenpy.new_config import commands as rc\n",
    "from ravenpy.new_config.emulators import GR4JCN\n",
    "from ravenpy.utilities.new_config.regionalization import regionalize\n",
    "from ravenpy.utilities.regionalization import read_gauged_params, read_gauged_properties"
   ]
  },
  {
   "cell_type": "code",
   "execution_count": null,
   "metadata": {
    "execution": {
     "iopub.execute_input": "2021-09-08T20:36:27.375133Z",
     "iopub.status.busy": "2021-09-08T20:36:27.374674Z",
     "iopub.status.idle": "2021-09-08T20:36:27.378052Z",
     "shell.execute_reply": "2021-09-08T20:36:27.377685Z"
    }
   },
   "outputs": [],
   "source": [
    "%%capture --no-display\n",
    "ts = \"ERA5_weather_data_Salmon.nc\"\n",
    "\n",
    "# Set alternative names for netCDF variables\n",
    "alt_names = {\n",
    "    \"TEMP_MIN\": \"tmin\",\n",
    "    \"TEMP_MAX\": \"tmax\",\n",
    "    \"PRECIP\": \"pr\",\n",
    "}\n",
    "\n",
    "# Data types to extract from netCDF\n",
    "data_type = [\"TEMP_MAX\", \"TEMP_MIN\", \"PRECIP\"]\n",
    "\n",
    "\n",
    "hru = {}\n",
    "hru = dict(\n",
    "    area=4250.6,\n",
    "    elevation=843.0,\n",
    "    latitude=54.4848,\n",
    "    longitude=-123.3659,\n",
    "    hru_type=\"land\",\n",
    ")\n",
    "\n",
    "\n",
    "# Model configuration\n",
    "model_config = GR4JCN(\n",
    "    Gauge=[\n",
    "        rc.Gauge.from_nc(\n",
    "            ts,\n",
    "            data_type=data_type,\n",
    "            alt_names=alt_names,\n",
    "            extra={\n",
    "                \"ALL\": {\n",
    "                    \"elevation\": hru[\"elevation\"],\n",
    "                    \"Latitude\": hru[\"latitude\"],\n",
    "                    \"Longitude\": hru[\"longitude\"],\n",
    "                },\n",
    "            },\n",
    "        )\n",
    "    ],\n",
    "    HRUs=[hru],\n",
    "    StartDate=dt.datetime(1990, 1, 1),\n",
    "    EndDate=dt.datetime(2010, 12, 31),\n",
    "    RunName=\"regionalization\",\n",
    "    GlobalParameter={\"AVG_ANNUAL_RUNOFF\": 208.480},\n",
    ")\n",
    "\n",
    "model_structure = \"GR4JCN\"\n",
    "\n",
    "nash, params = read_gauged_params(model_structure)\n",
    "\n",
    "variables = [\"latitude\", \"longitude\", \"area\", \"forest\"]\n",
    "\n",
    "props = read_gauged_properties(variables)\n",
    "\n",
    "ungauged_props = {\n",
    "    \"latitude\": 40.4848,\n",
    "    \"longitude\": -103.3659,\n",
    "    \"area\": 4250.6,\n",
    "    \"forest\": 0.4,\n",
    "}\n",
    "\n",
    "regionalization_method = \"SP_IDW\"\n",
    "\n",
    "hydrograph, ensemble_hydrograph = regionalize(\n",
    "    method=regionalization_method,\n",
    "    model_config=model_config,\n",
    "    model_name=model_structure,\n",
    "    nash=nash,\n",
    "    params=params,\n",
    "    props=props,\n",
    "    target_props=ungauged_props,\n",
    "    min_NSE=0.7,\n",
    "    size=5,\n",
    ")"
   ]
  },
  {
   "cell_type": "markdown",
   "metadata": {},
   "source": [
    "The `hydrograph` and `ensemble` outputs are netCDF files storing the time series. These files are opened by default using `xarray`, which provides convenient and powerful time series analysis and plotting tools. "
   ]
  },
  {
   "cell_type": "code",
   "execution_count": null,
   "metadata": {
    "execution": {
     "iopub.execute_input": "2021-09-08T20:36:29.574816Z",
     "iopub.status.busy": "2021-09-08T20:36:29.573713Z",
     "iopub.status.idle": "2021-09-08T20:36:29.578724Z",
     "shell.execute_reply": "2021-09-08T20:36:29.578262Z"
    }
   },
   "outputs": [],
   "source": [
    "display(hydrograph)"
   ]
  },
  {
   "cell_type": "code",
   "execution_count": null,
   "metadata": {},
   "outputs": [],
   "source": [
    "display(ensemble_hydrograph)"
   ]
  },
  {
   "cell_type": "code",
   "execution_count": null,
   "metadata": {},
   "outputs": [],
   "source": [
    "qq = ensemble_hydrograph.q_sim[0, :, 0]\n",
    "\n",
    "ensemble_hydrograph.q_sim[:, :, 0].plot.line(\"b\", x=\"time\", add_legend=False)\n",
    "ensemble_hydrograph.q_sim[1, :, 0].plot.line(\n",
    "    \"b\", x=\"time\", label=\"Regionalized hydrographs\"\n",
    ")\n",
    "qq.plot.line(\"r\", x=\"time\", label=\"observations\")\n",
    "plt.legend(loc=\"lower left\")\n",
    "plt.show()"
   ]
  },
  {
   "cell_type": "code",
   "execution_count": null,
   "metadata": {
    "execution": {
     "iopub.execute_input": "2021-09-08T20:36:29.759579Z",
     "iopub.status.busy": "2021-09-08T20:36:29.751986Z",
     "iopub.status.idle": "2021-09-08T20:36:29.761276Z",
     "shell.execute_reply": "2021-09-08T20:36:29.761561Z"
    }
   },
   "outputs": [],
   "source": [
    "print(\"Max: \", hydrograph.max())\n",
    "print(\"Mean: \", hydrograph.mean())\n",
    "print(\"Monthly means: \", hydrograph.groupby(\"time.month\").mean(dim=\"time\"))"
   ]
  }
 ],
 "metadata": {
  "kernelspec": {
   "display_name": "Python 3 (ipykernel)",
   "language": "python",
   "name": "python3"
  },
  "language_info": {
   "codemirror_mode": {
    "name": "ipython",
    "version": 3
   },
   "file_extension": ".py",
   "mimetype": "text/x-python",
   "name": "python",
   "nbconvert_exporter": "python",
   "pygments_lexer": "ipython3",
   "version": "3.10.9"
  }
 },
 "nbformat": 4,
 "nbformat_minor": 1
}
