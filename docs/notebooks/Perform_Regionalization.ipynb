{
 "cells": [
  {
   "cell_type": "markdown",
   "metadata": {},
   "source": [
    "# Regionalization of model parameters\n",
    "\n",
    "Here we call the Regionalization WPS service to provide estimated streamflow (best estimate and ensemble) at an ungauged site using three pre-calibrated hydrological models and a large hydrometeorological database with catchment attributes (Extended CANOPEX). Multiple regionalization strategies are allowed."
   ]
  },
  {
   "cell_type": "code",
   "execution_count": null,
   "metadata": {
    "execution": {
     "iopub.execute_input": "2021-09-08T20:36:25.297511Z",
     "iopub.status.busy": "2021-09-08T20:36:25.291877Z",
     "iopub.status.idle": "2021-09-08T20:36:27.317135Z",
     "shell.execute_reply": "2021-09-08T20:36:27.315889Z"
    }
   },
   "outputs": [],
   "source": [
    "import datetime as dt\n",
    "\n",
    "from matplotlib import pyplot as plt\n",
    "\n",
    "from ravenpy.config import commands as rc\n",
    "from ravenpy.config.emulators import GR4JCN\n",
    "from ravenpy.utilities.regionalization import (\n",
    "    read_gauged_params,\n",
    "    read_gauged_properties,\n",
    "    regionalize,\n",
    ")\n",
    "from ravenpy.utilities.testdata import get_file"
   ]
  },
  {
   "cell_type": "markdown",
   "metadata": {},
   "source": [
    "We can first start by setting up our model. This model will be setup on our ungauged basin, for which we want to generate streamflow. We still need to provide meteorological forcings and other descriptors (HRUs), however we do not provide a parameter set. This will be done by regionalization later."
   ]
  },
  {
   "cell_type": "code",
   "execution_count": null,
   "metadata": {
    "execution": {
     "iopub.execute_input": "2021-09-08T20:36:27.375133Z",
     "iopub.status.busy": "2021-09-08T20:36:27.374674Z",
     "iopub.status.idle": "2021-09-08T20:36:27.378052Z",
     "shell.execute_reply": "2021-09-08T20:36:27.377685Z"
    }
   },
   "outputs": [],
   "source": [
    "# Get the forcing dataset for the ungauged watershed\n",
    "ts = get_file(\"notebook_inputs/ERA5_weather_data_Salmon.nc\")\n",
    "\n",
    "# Get HRUs of ungauged watershed\n",
    "hru = dict(\n",
    "    area=4250.6,\n",
    "    elevation=843.0,\n",
    "    latitude=54.4848,\n",
    "    longitude=-123.3659,\n",
    "    hru_type=\"land\",\n",
    ")\n",
    "\n",
    "# Set alternative names for netCDF variables\n",
    "alt_names = {\n",
    "    \"TEMP_MIN\": \"tmin\",\n",
    "    \"TEMP_MAX\": \"tmax\",\n",
    "    \"PRECIP\": \"pr\",\n",
    "}\n",
    "\n",
    "# Data types to extract from netCDF\n",
    "data_type = [\"TEMP_MAX\", \"TEMP_MIN\", \"PRECIP\"]\n",
    "data_kwds = {\n",
    "    \"ALL\": {\n",
    "        \"elevation\": hru[\"elevation\"],\n",
    "        \"Latitude\": hru[\"latitude\"],\n",
    "        \"Longitude\": hru[\"longitude\"],\n",
    "    },\n",
    "}\n",
    "\n",
    "# Model configuration for the ungauged watershed. Notice we are not providing parameters, because,\n",
    "# by definition, we do not have the optimal parameters for an ungauged basin.\n",
    "# Also note that, for now, only the GR4JCN, HMETS and MOHYSE models are supported, as they are the only ones\n",
    "# for which we have a pre-computed database of parameters to use to estimate relationships between descriptors\n",
    "# and model parameters.\n",
    "model_config = GR4JCN(\n",
    "    Gauge=[\n",
    "        rc.Gauge.from_nc(\n",
    "            ts, data_type=data_type, alt_names=alt_names, data_kwds=data_kwds\n",
    "        )\n",
    "    ],\n",
    "    HRUs=[hru],\n",
    "    StartDate=dt.datetime(1990, 1, 1),\n",
    "    EndDate=dt.datetime(2010, 12, 31),\n",
    "    RunName=\"regionalization\",\n",
    ")"
   ]
  },
  {
   "cell_type": "markdown",
   "metadata": {},
   "source": [
    "We can now start working on the regionalization method and the required information."
   ]
  },
  {
   "cell_type": "code",
   "execution_count": null,
   "metadata": {},
   "outputs": [],
   "source": [
    "# We need to provide the name of the model structure we are using. Can be \"GR4JCN\", \"HMETS\" or \"MOHYSE\"\n",
    "model_structure = \"GR4JCN\"\n",
    "\n",
    "# Read the table of model parameters and calibrated NSE values for all the basins in the donors dataset\n",
    "nash, params = read_gauged_params(model_structure)\n",
    "\n",
    "# Which variables do we want to use to estimate the parameter relationships?\n",
    "# Possible values and their description are provided here:\n",
    "\"\"\"\n",
    "latitude  (catchment centroid latitude, degrees)\n",
    "longitude (catchment centroid longitude, degrees)\n",
    "area      (drainage area, km²)\n",
    "gravelius (Gravelius index)\n",
    "perimeter (catchment perimeter, m)\n",
    "elevation (mean catchment elevation, m)\n",
    "slope     (mean catchment slope, %)\n",
    "aspect    (catchment orientation vs. North, degrees)\n",
    "forest    (Land-use percentage as forest (%))\n",
    "grass     (Land-use percentage as grass (%))\n",
    "wetland   (Land-use percentage as wetlands (%))\n",
    "urban     (Land-use percentage as urban areas (%))\n",
    "shrubs    (Land-use percentage as shrubs (%))\n",
    "crops     (Land-use percentage as crops (%))\n",
    "snowIce   (Land-use percentage as permanent snow/ice (%))\n",
    "\"\"\"\n",
    "variables = [\"latitude\", \"longitude\", \"area\", \"forest\"]\n",
    "\n",
    "# Read the desired properties from the donors table\n",
    "props = read_gauged_properties(variables)\n",
    "\n",
    "# Provide the values for the desired variables for the ungauged basin (used to estimate relationships)\n",
    "ungauged_props = {\n",
    "    \"latitude\": 40.4848,\n",
    "    \"longitude\": -103.3659,\n",
    "    \"area\": 4250.6,\n",
    "    \"forest\": 0.4,\n",
    "}\n",
    "\n",
    "# Choice of the regionalization method. You can choose between the following methods (with their description):\n",
    "\"\"\"\n",
    "SP   (Spatial Proximity: Uses the latitude and longitude only by default, returns the nearest donors)\n",
    "PS   (Physical Similarity: Finds the most similar donor catchments according to your desired variables)\n",
    "MLR  (Multiple Linear Regression: Build a linear regression between the desired variables and the model\n",
    "     parameters from the donor database. Then estimate parameters from the linear regression using\n",
    "     the ungauged basin's properties.)\n",
    "SP-IDW (Spatial Proximity but average the results of multiple donors using the inverse distance weighting\n",
    "        based on distance)\n",
    "PS-IDW (Physical Similarity but average the results of multiple donors using the inverse distance weighting\n",
    "        of degree of similarity)\n",
    "SP-IDW-RA (SP-IDW while adding regression-based parameters to the donor parameter dataset\n",
    "          [Arsenault and Brissette, 2014])\n",
    "PS-IDW-RA (PS-IDW while adding regression-based parameters to the donor parameter dataset\n",
    "          [Arsenault and Brissette, 2014])\n",
    "---\n",
    "Arsenault, R., and Brissette, F. P. (2014), Continuous streamflow prediction in ungauged basins:\n",
    "The effects of equifinality and parameter set selection on uncertainty in regionalization approaches,\n",
    "Water Resour. Res., 50, 6135–6153, doi:10.1002/2013WR014898.\n",
    "\"\"\"\n",
    "regionalization_method = \"SP-IDW-RA\"\n",
    "\n",
    "# Here we provide a threshold to exclude donor catchments. Basically, any donors whose calibration NSE is lower\n",
    "# than this threshold is considered unreliable and is removed from the database prior to processing. 0.6-0.7 are\n",
    "# generally well-accepted values in the literature. The higher the threshold, the fewer donors remain so an\n",
    "# equilibrium must be found.\n",
    "minimum_donor_NSE = 0.7\n",
    "\n",
    "# Finally, we can choose how many donors we want to use. The value is only used for SP- and PS-based methods.\n",
    "# The hydrographs generated by running the model using the parameters of multiple donors are averaged (either\n",
    "# using a simple mean, or using IDW if we used the IDW tag) which results in generally better hydrographs than\n",
    "# any of the single hydrographs.\n",
    "number_donors = 5\n",
    "\n",
    "# Launch the regionalization method and get\n",
    "#  - hydrograph: the mean hydrograph, and\n",
    "#  - ensemble_hydrograph: the hydrographs of each of the individual donors before averaging\n",
    "hydrograph, ensemble_hydrograph = regionalize(\n",
    "    config=model_config,\n",
    "    method=regionalization_method,\n",
    "    nash=nash,\n",
    "    params=params,\n",
    "    props=props,\n",
    "    target_props=ungauged_props,\n",
    "    min_NSE=minimum_donor_NSE,\n",
    "    size=number_donors,\n",
    ")"
   ]
  },
  {
   "cell_type": "markdown",
   "metadata": {},
   "source": [
    "The `hydrograph` and `ensemble` outputs are netCDF files storing the time series. These files are opened by default using `xarray`, which provides convenient and powerful time series analysis and plotting tools."
   ]
  },
  {
   "cell_type": "code",
   "execution_count": null,
   "metadata": {
    "execution": {
     "iopub.execute_input": "2021-09-08T20:36:29.574816Z",
     "iopub.status.busy": "2021-09-08T20:36:29.573713Z",
     "iopub.status.idle": "2021-09-08T20:36:29.578724Z",
     "shell.execute_reply": "2021-09-08T20:36:29.578262Z"
    }
   },
   "outputs": [],
   "source": [
    "display(hydrograph)"
   ]
  },
  {
   "cell_type": "code",
   "execution_count": null,
   "metadata": {},
   "outputs": [],
   "source": [
    "display(ensemble_hydrograph)"
   ]
  },
  {
   "cell_type": "code",
   "execution_count": null,
   "metadata": {},
   "outputs": [],
   "source": [
    "qq = ensemble_hydrograph.q_sim[0, :, 0]\n",
    "\n",
    "ensemble_hydrograph.q_sim[:, :, 0].plot.line(\"b\", x=\"time\", add_legend=False)\n",
    "ensemble_hydrograph.q_sim[1, :, 0].plot.line(\n",
    "    \"b\", x=\"time\", label=\"Regionalized hydrographs\"\n",
    ")\n",
    "qq.plot.line(\"r\", x=\"time\", label=\"observations\")\n",
    "plt.legend(loc=\"upper right\")\n",
    "plt.show()"
   ]
  },
  {
   "cell_type": "code",
   "execution_count": null,
   "metadata": {
    "execution": {
     "iopub.execute_input": "2021-09-08T20:36:29.759579Z",
     "iopub.status.busy": "2021-09-08T20:36:29.751986Z",
     "iopub.status.idle": "2021-09-08T20:36:29.761276Z",
     "shell.execute_reply": "2021-09-08T20:36:29.761561Z"
    }
   },
   "outputs": [],
   "source": [
    "print(\"Max: \", hydrograph.max())\n",
    "print(\"Mean: \", hydrograph.mean())\n",
    "print(\"Monthly means: \", hydrograph.groupby(\"time.month\").mean(dim=\"time\"))"
   ]
  }
 ],
 "metadata": {
  "kernelspec": {
   "display_name": "Python 3 (ipykernel)",
   "language": "python",
   "name": "python3"
  },
  "language_info": {
   "codemirror_mode": {
    "name": "ipython",
    "version": 3
   },
   "file_extension": ".py",
   "mimetype": "text/x-python",
   "name": "python",
   "nbconvert_exporter": "python",
   "pygments_lexer": "ipython3",
   "version": "3.10.9"
  }
 },
 "nbformat": 4,
 "nbformat_minor": 1
}
