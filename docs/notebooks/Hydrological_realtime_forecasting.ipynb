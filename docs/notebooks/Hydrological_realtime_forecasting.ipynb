{
 "cells": [
  {
   "cell_type": "markdown",
   "metadata": {},
   "source": [
    "# Real-time flow forecasts with ECCC weather forecasts\n",
    "\n",
    "This notebook shows how to perform a streamflow forecast, using ECCC weather forecasts. Generates the forecasts and plots them."
   ]
  },
  {
   "cell_type": "code",
   "execution_count": null,
   "metadata": {
    "execution": {
     "iopub.execute_input": "2021-09-08T20:35:47.455423Z",
     "iopub.status.busy": "2021-09-08T20:35:47.455017Z",
     "iopub.status.idle": "2021-09-08T20:35:49.547045Z",
     "shell.execute_reply": "2021-09-08T20:35:49.546636Z"
    }
   },
   "outputs": [],
   "source": [
    "%matplotlib inline\n",
    "\n",
    "# Import the required packages\n",
    "\n",
    "import datetime as dt\n",
    "\n",
    "import fiona\n",
    "import matplotlib.pyplot as plt\n",
    "import xarray as xr\n",
    "from clisops.core import average, subset\n",
    "\n",
    "from ravenpy import Emulator\n",
    "from ravenpy.config import commands as rc\n",
    "from ravenpy.config.emulators import GR4JCN\n",
    "from ravenpy.extractors.forecasts import get_recent_ECCC_forecast\n",
    "from ravenpy.utilities import forecasting\n",
    "from ravenpy.utilities.testdata import get_file"
   ]
  },
  {
   "cell_type": "code",
   "execution_count": null,
   "metadata": {},
   "outputs": [],
   "source": [
    "# Define the catchment contour. Here we use the Salmon River file we previously generated using the Delineator\n",
    "# in Tutorial Notebook 01.\n",
    "basin_contour = get_file(\"notebook_inputs/salmon_river.geojson\")\n",
    "\n",
    "# Get the most recent ECCC forecast data from the Geomet extraction tool:\n",
    "forecast_data = get_recent_ECCC_forecast(\n",
    "    fiona.open(basin_contour), climate_model=\"GEPS\"\n",
    ")\n",
    "display(forecast_data)\n",
    "\n",
    "# We need to write the forecast data as a file for Raven to be able to access it.\n",
    "fname = \"/tmp/forecast.nc\"\n",
    "forecast_data.to_netcdf(fname)"
   ]
  },
  {
   "cell_type": "code",
   "execution_count": null,
   "metadata": {
    "execution": {
     "iopub.execute_input": "2021-09-08T20:35:49.551680Z",
     "iopub.status.busy": "2021-09-08T20:35:49.551277Z",
     "iopub.status.idle": "2021-09-08T20:35:58.407199Z",
     "shell.execute_reply": "2021-09-08T20:35:58.406725Z"
    }
   },
   "outputs": [],
   "source": [
    "# Define the warmup period dates. Our weather file ends before the forecast date so our states will not be as\n",
    "# good as those of a model run operationally.\n",
    "start_date_wu = dt.datetime(2010, 1, 1)\n",
    "end_date_wu = dt.datetime(2020, 3, 30)\n",
    "\n",
    "# Define some of the catchment properties. Could also be replaced by a call to the properties WPS as in\n",
    "# the Tutorial Notebook 02.\n",
    "hru = {}\n",
    "hru = dict(\n",
    "    area=4250.6,\n",
    "    elevation=843.0,\n",
    "    latitude=54.4848,\n",
    "    longitude=-123.3659,\n",
    "    hru_type=\"land\",\n",
    ")\n",
    "\n",
    "# Observed weather data for the Salmon river. We extracted this using Tutorial Notebook 03 and the\n",
    "# salmon_river.geojson file as the contour. Used for the model warm-up.\n",
    "ts = get_file(\"notebook_inputs/ERA5_weather_data_Salmon.nc\")\n",
    "\n",
    "# Set alternative names for netCDF variables\n",
    "alt_names = {\n",
    "    \"TEMP_MIN\": \"tmin\",\n",
    "    \"TEMP_MAX\": \"tmax\",\n",
    "    \"PRECIP\": \"pr\",\n",
    "}\n",
    "\n",
    "# Data types to extract from netCDF\n",
    "data_type = [\"TEMP_MAX\", \"TEMP_MIN\", \"PRECIP\"]\n",
    "data_kwds = {\n",
    "    \"ALL\": {\n",
    "        \"elevation\": hru[\"elevation\"],\n",
    "        \"Latitude\": hru[\"latitude\"],\n",
    "        \"Longitude\": hru[\"longitude\"],\n",
    "    },\n",
    "}\n",
    "\n",
    "# Model configuration\n",
    "model_config_warmup = GR4JCN(\n",
    "    params=[0.529, -3.396, 407.29, 1.072, 16.9, 0.947],\n",
    "    Gauge=[\n",
    "        rc.Gauge.from_nc(\n",
    "            ts, data_type=data_type, alt_names=alt_names, data_kwds=data_kwds\n",
    "        )\n",
    "    ],\n",
    "    HRUs=[hru],\n",
    "    StartDate=start_date_wu,\n",
    "    EndDate=end_date_wu,\n",
    "    RunName=\"ESP_vs_NWP_warmup\",\n",
    ")\n",
    "\n",
    "# Run the model and get the outputs.\n",
    "out1 = Emulator(config=model_config_warmup).run()\n",
    "\n",
    "# Extract the path to the final states file that will be used as the next initial states\n",
    "hotstart = out1.files[\"solution\"]"
   ]
  },
  {
   "cell_type": "code",
   "execution_count": null,
   "metadata": {},
   "outputs": [],
   "source": [
    "# Length of the desired forecast, in days\n",
    "duration = 7\n",
    "\n",
    "# We need to adjust the data_type and alt_names according to the data in the forecast:\n",
    "# Set alternative names for netCDF variables\n",
    "alt_names = {\n",
    "    \"TEMP_AVE\": \"tas\",\n",
    "    \"PRECIP\": \"pr\",\n",
    "}\n",
    "\n",
    "# Data types to extract from netCDF\n",
    "data_type = [\"TEMP_AVE\", \"PRECIP\"]\n",
    "\n",
    "# We will need to reuse this for GR4J. Update according to your needs. For example, here we will also pass\n",
    "# the catchment latitude and longitude as our CaSPAr data has been averaged at the catchment scale.\n",
    "# We also need to tell the model to deaccumulate the precipitation and shift it in time by 6 hours for our\n",
    "# catchment (UTC timezones):\n",
    "data_kwds = {\n",
    "    \"ALL\": {\n",
    "        \"elevation\": hru[\"elevation\"],\n",
    "        \"Latitude\": hru[\"latitude\"],\n",
    "        \"Longitude\": hru[\"longitude\"],\n",
    "    },\n",
    "    \"PRECIP\": {\n",
    "        \"Deaccumulate\": True,\n",
    "        \"TimeShift\": -0.25,\n",
    "        \"LinearTransform\": {\n",
    "            \"scale\": 1.0\n",
    "        },  # Since we are deaccumulating, we need to manually specify scale.\n",
    "    },  # We are already in mm, so leave it like so (scale = 1.0).\n",
    "    \"TEMP_AVE\": {\n",
    "        \"TimeShift\": -0.25,\n",
    "    },\n",
    "}\n",
    "\n",
    "# ECCC forecast time format is a bit complex to work with, so we will use cftime to make it more manageable.\n",
    "fcst_tmp = xr.open_dataset(fname, use_cftime=True)\n",
    "\n",
    "# Get the first timestep that will be used for the model simulation\n",
    "start_date = fcst_tmp.time.data[0] + dt.timedelta(days=1)\n",
    "\n",
    "# Model configuration for forecasting, including correct start date and forecast duration and initial state\n",
    "model_config_fcst = GR4JCN(\n",
    "    params=[0.529, -3.396, 407.29, 1.072, 16.9, 0.947],\n",
    "    Gauge=[\n",
    "        rc.Gauge.from_nc(\n",
    "            fname, data_type=data_type, alt_names=alt_names, data_kwds=data_kwds\n",
    "        )\n",
    "    ],\n",
    "    HRUs=[hru],\n",
    "    StartDate=start_date,\n",
    "    Duration=duration,\n",
    "    RunName=\"Realtime_forecast_NB\",\n",
    ").set_solution(hotstart, timestamp=False)"
   ]
  },
  {
   "cell_type": "code",
   "execution_count": null,
   "metadata": {
    "scrolled": false
   },
   "outputs": [],
   "source": [
    "# Generate the forecast by providing all necessary information to generate virtual stations representing\n",
    "# the forecast members. Note that we are using the hindcasting tools, becasue there is effectively no difference\n",
    "# between operational hindcasting and operational forecasting except for the forecast issue time and data\n",
    "# availability, which we solved by using the most recent ECCC forecasts with a warmed-up model and hotstart file.\n",
    "\n",
    "forecast_sims = forecasting.hindcast_from_meteo_forecast(\n",
    "    model_config_fcst,\n",
    "    forecast=fname,\n",
    "    ens_dim=\"members\",\n",
    "    # We also need to provide the necessary information to create gauges inside the forecasting model:\n",
    "    data_kwds=data_kwds,\n",
    "    data_type=data_type,\n",
    "    alt_names=alt_names,\n",
    ")\n",
    "\n",
    "display(forecast_sims.hydrograph)"
   ]
  },
  {
   "cell_type": "markdown",
   "metadata": {},
   "source": [
    "## And, for visual representation of the forecasts:"
   ]
  },
  {
   "cell_type": "code",
   "execution_count": null,
   "metadata": {},
   "outputs": [],
   "source": [
    "# Simulate an observed streamflow timeseries: Here we take a member from the ensemble, but you should use your own\n",
    "# observed timeseries:\n",
    "qq = forecast_sims.hydrograph.q_sim[0, :, 0]\n",
    "\n",
    "# This is to be replaced with a call to the forecast graphing WPS as soon as merged.\n",
    "# model.q_sim.plot.line(\"b\", x=\"time\")\n",
    "forecast_sims.hydrograph.q_sim[:, :, 0].plot.line(\"b\", x=\"time\", add_legend=False)\n",
    "forecast_sims.hydrograph.q_sim[1, :, 0].plot.line(\"b\", x=\"time\", label=\"forecasts\")\n",
    "qq.plot.line(\"r\", x=\"time\", label=\"observations\")\n",
    "plt.legend(loc=\"upper left\")\n",
    "plt.show()"
   ]
  }
 ],
 "metadata": {
  "kernelspec": {
   "display_name": "Python 3 (ipykernel)",
   "language": "python",
   "name": "python3"
  },
  "language_info": {
   "codemirror_mode": {
    "name": "ipython",
    "version": 3
   },
   "file_extension": ".py",
   "mimetype": "text/x-python",
   "name": "python",
   "nbconvert_exporter": "python",
   "pygments_lexer": "ipython3",
   "version": "3.10.9"
  }
 },
 "nbformat": 4,
 "nbformat_minor": 1
}
