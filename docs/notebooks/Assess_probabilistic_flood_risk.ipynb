{
 "cells": [
  {
   "cell_type": "markdown",
   "id": "chinese-dealer",
   "metadata": {},
   "source": [
    "# Probabilistic flood risk assessment\n",
    "\n",
    "In this notebook, we combine the forecasting abilities and the time series analysis capabilities in a single seamless process to estimate the flood risk of a probabilistic forecast. As an example, we first perform a frequency analysis on an observed time series, then estimate the streamflow associated to a 2-year return period. We then perform a climatological ESP forecast (to ensure repeatability, but a realtime forecast would work too!) and estimate the probability of flooding (exceeding the threshold) given the ensemble of members in the probabilistic forecast."
   ]
  },
  {
   "cell_type": "code",
   "execution_count": 1,
   "id": "descending-bedroom",
   "metadata": {
    "scrolled": true
   },
   "outputs": [
    {
     "name": "stderr",
     "output_type": "stream",
     "text": [
      "/home/tjs/mambaforge/envs/RavenPy/lib/python3.10/site-packages/xclim/indices/fire/_cffwis.py:207: NumbaDeprecationWarning: \u001b[1mThe 'nopython' keyword argument was not supplied to the 'numba.jit' decorator. The implicit default value for this argument is currently False, but it will be changed to True in Numba 0.59.0. See https://numba.readthedocs.io/en/stable/reference/deprecation.html#deprecation-of-object-mode-fall-back-behaviour-when-using-jit for details.\u001b[0m\n",
      "  def _day_length(lat: int | float, mth: int):  # pragma: no cover\n",
      "/home/tjs/mambaforge/envs/RavenPy/lib/python3.10/site-packages/xclim/indices/fire/_cffwis.py:227: NumbaDeprecationWarning: \u001b[1mThe 'nopython' keyword argument was not supplied to the 'numba.jit' decorator. The implicit default value for this argument is currently False, but it will be changed to True in Numba 0.59.0. See https://numba.readthedocs.io/en/stable/reference/deprecation.html#deprecation-of-object-mode-fall-back-behaviour-when-using-jit for details.\u001b[0m\n",
      "  def _day_length_factor(lat: float, mth: int):  # pragma: no cover\n"
     ]
    }
   ],
   "source": [
    "%matplotlib inline\n",
    "\n",
    "import datetime as dt\n",
    "\n",
    "import xclim\n",
    "from matplotlib import pyplot as plt\n",
    "\n",
    "from ravenpy.utilities.testdata import get_file, open_dataset"
   ]
  },
  {
   "cell_type": "markdown",
   "id": "genuine-dodge",
   "metadata": {},
   "source": [
    "Perform the time series analysis on observed data for the catchment using the frequency analysis WPS capabilities."
   ]
  },
  {
   "cell_type": "code",
   "execution_count": 2,
   "id": "quiet-queens",
   "metadata": {},
   "outputs": [
    {
     "data": {
      "text/plain": "<xarray.DataArray 'fa_1maxannual' (return_period: 6)>\narray([186.42526386, 283.04234564, 347.01126071, 427.83615447,\n       487.79667785, 547.31446213])\nCoordinates:\n  * return_period  (return_period) int64 2 5 10 25 50 100\nAttributes:\n    units:               m**3 s**-1\n    original_long_name:  discharge observation\n    long_name:           N-year return level\n    description:         Frequency analysis for the maximal annual 1-day valu...\n    method:              ML\n    estimator:           Maximum likelihood\n    scipy_dist:          gumbel_r\n    history:             [2023-05-29 12:29:59] fa_1maxannual: xclim.core.indi...\n    cell_methods:        \n    mode:                max",
      "text/html": "<div><svg style=\"position: absolute; width: 0; height: 0; overflow: hidden\">\n<defs>\n<symbol id=\"icon-database\" viewBox=\"0 0 32 32\">\n<path d=\"M16 0c-8.837 0-16 2.239-16 5v4c0 2.761 7.163 5 16 5s16-2.239 16-5v-4c0-2.761-7.163-5-16-5z\"></path>\n<path d=\"M16 17c-8.837 0-16-2.239-16-5v6c0 2.761 7.163 5 16 5s16-2.239 16-5v-6c0 2.761-7.163 5-16 5z\"></path>\n<path d=\"M16 26c-8.837 0-16-2.239-16-5v6c0 2.761 7.163 5 16 5s16-2.239 16-5v-6c0 2.761-7.163 5-16 5z\"></path>\n</symbol>\n<symbol id=\"icon-file-text2\" viewBox=\"0 0 32 32\">\n<path d=\"M28.681 7.159c-0.694-0.947-1.662-2.053-2.724-3.116s-2.169-2.030-3.116-2.724c-1.612-1.182-2.393-1.319-2.841-1.319h-15.5c-1.378 0-2.5 1.121-2.5 2.5v27c0 1.378 1.122 2.5 2.5 2.5h23c1.378 0 2.5-1.122 2.5-2.5v-19.5c0-0.448-0.137-1.23-1.319-2.841zM24.543 5.457c0.959 0.959 1.712 1.825 2.268 2.543h-4.811v-4.811c0.718 0.556 1.584 1.309 2.543 2.268zM28 29.5c0 0.271-0.229 0.5-0.5 0.5h-23c-0.271 0-0.5-0.229-0.5-0.5v-27c0-0.271 0.229-0.5 0.5-0.5 0 0 15.499-0 15.5 0v7c0 0.552 0.448 1 1 1h7v19.5z\"></path>\n<path d=\"M23 26h-14c-0.552 0-1-0.448-1-1s0.448-1 1-1h14c0.552 0 1 0.448 1 1s-0.448 1-1 1z\"></path>\n<path d=\"M23 22h-14c-0.552 0-1-0.448-1-1s0.448-1 1-1h14c0.552 0 1 0.448 1 1s-0.448 1-1 1z\"></path>\n<path d=\"M23 18h-14c-0.552 0-1-0.448-1-1s0.448-1 1-1h14c0.552 0 1 0.448 1 1s-0.448 1-1 1z\"></path>\n</symbol>\n</defs>\n</svg>\n<style>/* CSS stylesheet for displaying xarray objects in jupyterlab.\n *\n */\n\n:root {\n  --xr-font-color0: var(--jp-content-font-color0, rgba(0, 0, 0, 1));\n  --xr-font-color2: var(--jp-content-font-color2, rgba(0, 0, 0, 0.54));\n  --xr-font-color3: var(--jp-content-font-color3, rgba(0, 0, 0, 0.38));\n  --xr-border-color: var(--jp-border-color2, #e0e0e0);\n  --xr-disabled-color: var(--jp-layout-color3, #bdbdbd);\n  --xr-background-color: var(--jp-layout-color0, white);\n  --xr-background-color-row-even: var(--jp-layout-color1, white);\n  --xr-background-color-row-odd: var(--jp-layout-color2, #eeeeee);\n}\n\nhtml[theme=dark],\nbody[data-theme=dark],\nbody.vscode-dark {\n  --xr-font-color0: rgba(255, 255, 255, 1);\n  --xr-font-color2: rgba(255, 255, 255, 0.54);\n  --xr-font-color3: rgba(255, 255, 255, 0.38);\n  --xr-border-color: #1F1F1F;\n  --xr-disabled-color: #515151;\n  --xr-background-color: #111111;\n  --xr-background-color-row-even: #111111;\n  --xr-background-color-row-odd: #313131;\n}\n\n.xr-wrap {\n  display: block !important;\n  min-width: 300px;\n  max-width: 700px;\n}\n\n.xr-text-repr-fallback {\n  /* fallback to plain text repr when CSS is not injected (untrusted notebook) */\n  display: none;\n}\n\n.xr-header {\n  padding-top: 6px;\n  padding-bottom: 6px;\n  margin-bottom: 4px;\n  border-bottom: solid 1px var(--xr-border-color);\n}\n\n.xr-header > div,\n.xr-header > ul {\n  display: inline;\n  margin-top: 0;\n  margin-bottom: 0;\n}\n\n.xr-obj-type,\n.xr-array-name {\n  margin-left: 2px;\n  margin-right: 10px;\n}\n\n.xr-obj-type {\n  color: var(--xr-font-color2);\n}\n\n.xr-sections {\n  padding-left: 0 !important;\n  display: grid;\n  grid-template-columns: 150px auto auto 1fr 20px 20px;\n}\n\n.xr-section-item {\n  display: contents;\n}\n\n.xr-section-item input {\n  display: none;\n}\n\n.xr-section-item input + label {\n  color: var(--xr-disabled-color);\n}\n\n.xr-section-item input:enabled + label {\n  cursor: pointer;\n  color: var(--xr-font-color2);\n}\n\n.xr-section-item input:enabled + label:hover {\n  color: var(--xr-font-color0);\n}\n\n.xr-section-summary {\n  grid-column: 1;\n  color: var(--xr-font-color2);\n  font-weight: 500;\n}\n\n.xr-section-summary > span {\n  display: inline-block;\n  padding-left: 0.5em;\n}\n\n.xr-section-summary-in:disabled + label {\n  color: var(--xr-font-color2);\n}\n\n.xr-section-summary-in + label:before {\n  display: inline-block;\n  content: '►';\n  font-size: 11px;\n  width: 15px;\n  text-align: center;\n}\n\n.xr-section-summary-in:disabled + label:before {\n  color: var(--xr-disabled-color);\n}\n\n.xr-section-summary-in:checked + label:before {\n  content: '▼';\n}\n\n.xr-section-summary-in:checked + label > span {\n  display: none;\n}\n\n.xr-section-summary,\n.xr-section-inline-details {\n  padding-top: 4px;\n  padding-bottom: 4px;\n}\n\n.xr-section-inline-details {\n  grid-column: 2 / -1;\n}\n\n.xr-section-details {\n  display: none;\n  grid-column: 1 / -1;\n  margin-bottom: 5px;\n}\n\n.xr-section-summary-in:checked ~ .xr-section-details {\n  display: contents;\n}\n\n.xr-array-wrap {\n  grid-column: 1 / -1;\n  display: grid;\n  grid-template-columns: 20px auto;\n}\n\n.xr-array-wrap > label {\n  grid-column: 1;\n  vertical-align: top;\n}\n\n.xr-preview {\n  color: var(--xr-font-color3);\n}\n\n.xr-array-preview,\n.xr-array-data {\n  padding: 0 5px !important;\n  grid-column: 2;\n}\n\n.xr-array-data,\n.xr-array-in:checked ~ .xr-array-preview {\n  display: none;\n}\n\n.xr-array-in:checked ~ .xr-array-data,\n.xr-array-preview {\n  display: inline-block;\n}\n\n.xr-dim-list {\n  display: inline-block !important;\n  list-style: none;\n  padding: 0 !important;\n  margin: 0;\n}\n\n.xr-dim-list li {\n  display: inline-block;\n  padding: 0;\n  margin: 0;\n}\n\n.xr-dim-list:before {\n  content: '(';\n}\n\n.xr-dim-list:after {\n  content: ')';\n}\n\n.xr-dim-list li:not(:last-child):after {\n  content: ',';\n  padding-right: 5px;\n}\n\n.xr-has-index {\n  font-weight: bold;\n}\n\n.xr-var-list,\n.xr-var-item {\n  display: contents;\n}\n\n.xr-var-item > div,\n.xr-var-item label,\n.xr-var-item > .xr-var-name span {\n  background-color: var(--xr-background-color-row-even);\n  margin-bottom: 0;\n}\n\n.xr-var-item > .xr-var-name:hover span {\n  padding-right: 5px;\n}\n\n.xr-var-list > li:nth-child(odd) > div,\n.xr-var-list > li:nth-child(odd) > label,\n.xr-var-list > li:nth-child(odd) > .xr-var-name span {\n  background-color: var(--xr-background-color-row-odd);\n}\n\n.xr-var-name {\n  grid-column: 1;\n}\n\n.xr-var-dims {\n  grid-column: 2;\n}\n\n.xr-var-dtype {\n  grid-column: 3;\n  text-align: right;\n  color: var(--xr-font-color2);\n}\n\n.xr-var-preview {\n  grid-column: 4;\n}\n\n.xr-index-preview {\n  grid-column: 2 / 5;\n  color: var(--xr-font-color2);\n}\n\n.xr-var-name,\n.xr-var-dims,\n.xr-var-dtype,\n.xr-preview,\n.xr-attrs dt {\n  white-space: nowrap;\n  overflow: hidden;\n  text-overflow: ellipsis;\n  padding-right: 10px;\n}\n\n.xr-var-name:hover,\n.xr-var-dims:hover,\n.xr-var-dtype:hover,\n.xr-attrs dt:hover {\n  overflow: visible;\n  width: auto;\n  z-index: 1;\n}\n\n.xr-var-attrs,\n.xr-var-data,\n.xr-index-data {\n  display: none;\n  background-color: var(--xr-background-color) !important;\n  padding-bottom: 5px !important;\n}\n\n.xr-var-attrs-in:checked ~ .xr-var-attrs,\n.xr-var-data-in:checked ~ .xr-var-data,\n.xr-index-data-in:checked ~ .xr-index-data {\n  display: block;\n}\n\n.xr-var-data > table {\n  float: right;\n}\n\n.xr-var-name span,\n.xr-var-data,\n.xr-index-name div,\n.xr-index-data,\n.xr-attrs {\n  padding-left: 25px !important;\n}\n\n.xr-attrs,\n.xr-var-attrs,\n.xr-var-data,\n.xr-index-data {\n  grid-column: 1 / -1;\n}\n\ndl.xr-attrs {\n  padding: 0;\n  margin: 0;\n  display: grid;\n  grid-template-columns: 125px auto;\n}\n\n.xr-attrs dt,\n.xr-attrs dd {\n  padding: 0;\n  margin: 0;\n  float: left;\n  padding-right: 10px;\n  width: auto;\n}\n\n.xr-attrs dt {\n  font-weight: normal;\n  grid-column: 1;\n}\n\n.xr-attrs dt:hover span {\n  display: inline-block;\n  background: var(--xr-background-color);\n  padding-right: 10px;\n}\n\n.xr-attrs dd {\n  grid-column: 2;\n  white-space: pre-wrap;\n  word-break: break-all;\n}\n\n.xr-icon-database,\n.xr-icon-file-text2,\n.xr-no-icon {\n  display: inline-block;\n  vertical-align: middle;\n  width: 1em;\n  height: 1.5em !important;\n  stroke-width: 0;\n  stroke: currentColor;\n  fill: currentColor;\n}\n</style><pre class='xr-text-repr-fallback'>&lt;xarray.DataArray &#x27;fa_1maxannual&#x27; (return_period: 6)&gt;\narray([186.42526386, 283.04234564, 347.01126071, 427.83615447,\n       487.79667785, 547.31446213])\nCoordinates:\n  * return_period  (return_period) int64 2 5 10 25 50 100\nAttributes:\n    units:               m**3 s**-1\n    original_long_name:  discharge observation\n    long_name:           N-year return level\n    description:         Frequency analysis for the maximal annual 1-day valu...\n    method:              ML\n    estimator:           Maximum likelihood\n    scipy_dist:          gumbel_r\n    history:             [2023-05-29 12:29:59] fa_1maxannual: xclim.core.indi...\n    cell_methods:        \n    mode:                max</pre><div class='xr-wrap' style='display:none'><div class='xr-header'><div class='xr-obj-type'>xarray.DataArray</div><div class='xr-array-name'>'fa_1maxannual'</div><ul class='xr-dim-list'><li><span class='xr-has-index'>return_period</span>: 6</li></ul></div><ul class='xr-sections'><li class='xr-section-item'><div class='xr-array-wrap'><input id='section-f683180f-8ba5-4f6e-b412-895cc669b13e' class='xr-array-in' type='checkbox' checked><label for='section-f683180f-8ba5-4f6e-b412-895cc669b13e' title='Show/hide data repr'><svg class='icon xr-icon-database'><use xlink:href='#icon-database'></use></svg></label><div class='xr-array-preview xr-preview'><span>186.4 283.0 347.0 427.8 487.8 547.3</span></div><div class='xr-array-data'><pre>array([186.42526386, 283.04234564, 347.01126071, 427.83615447,\n       487.79667785, 547.31446213])</pre></div></div></li><li class='xr-section-item'><input id='section-9ae91f9d-40bc-41e1-acb4-9fd040ed8adf' class='xr-section-summary-in' type='checkbox'  checked><label for='section-9ae91f9d-40bc-41e1-acb4-9fd040ed8adf' class='xr-section-summary' >Coordinates: <span>(1)</span></label><div class='xr-section-inline-details'></div><div class='xr-section-details'><ul class='xr-var-list'><li class='xr-var-item'><div class='xr-var-name'><span class='xr-has-index'>return_period</span></div><div class='xr-var-dims'>(return_period)</div><div class='xr-var-dtype'>int64</div><div class='xr-var-preview xr-preview'>2 5 10 25 50 100</div><input id='attrs-c0d1e0b0-8436-4ac8-be6c-4114b3d18041' class='xr-var-attrs-in' type='checkbox' disabled><label for='attrs-c0d1e0b0-8436-4ac8-be6c-4114b3d18041' title='Show/Hide attributes'><svg class='icon xr-icon-file-text2'><use xlink:href='#icon-file-text2'></use></svg></label><input id='data-17306394-c049-4e80-9627-9ce385d5fc62' class='xr-var-data-in' type='checkbox'><label for='data-17306394-c049-4e80-9627-9ce385d5fc62' title='Show/Hide data repr'><svg class='icon xr-icon-database'><use xlink:href='#icon-database'></use></svg></label><div class='xr-var-attrs'><dl class='xr-attrs'></dl></div><div class='xr-var-data'><pre>array([  2,   5,  10,  25,  50, 100])</pre></div></li></ul></div></li><li class='xr-section-item'><input id='section-a380de02-34f7-46c1-8a97-634417964b3a' class='xr-section-summary-in' type='checkbox'  ><label for='section-a380de02-34f7-46c1-8a97-634417964b3a' class='xr-section-summary' >Indexes: <span>(1)</span></label><div class='xr-section-inline-details'></div><div class='xr-section-details'><ul class='xr-var-list'><li class='xr-var-item'><div class='xr-index-name'><div>return_period</div></div><div class='xr-index-preview'>PandasIndex</div><div></div><input id='index-50f7ddb4-12be-4397-ac87-9d0363511299' class='xr-index-data-in' type='checkbox'/><label for='index-50f7ddb4-12be-4397-ac87-9d0363511299' title='Show/Hide index repr'><svg class='icon xr-icon-database'><use xlink:href='#icon-database'></use></svg></label><div class='xr-index-data'><pre>PandasIndex(Index([2, 5, 10, 25, 50, 100], dtype=&#x27;int64&#x27;, name=&#x27;return_period&#x27;))</pre></div></li></ul></div></li><li class='xr-section-item'><input id='section-6b8cdbac-fa64-4d7a-9d9d-efaf3201ac01' class='xr-section-summary-in' type='checkbox'  ><label for='section-6b8cdbac-fa64-4d7a-9d9d-efaf3201ac01' class='xr-section-summary' >Attributes: <span>(10)</span></label><div class='xr-section-inline-details'></div><div class='xr-section-details'><dl class='xr-attrs'><dt><span>units :</span></dt><dd>m**3 s**-1</dd><dt><span>original_long_name :</span></dt><dd>discharge observation</dd><dt><span>long_name :</span></dt><dd>N-year return level</dd><dt><span>description :</span></dt><dd>Frequency analysis for the maximal annual 1-day value estimated using the gumbel_r distribution.</dd><dt><span>method :</span></dt><dd>ML</dd><dt><span>estimator :</span></dt><dd>Maximum likelihood</dd><dt><span>scipy_dist :</span></dt><dd>gumbel_r</dd><dt><span>history :</span></dt><dd>[2023-05-29 12:29:59] fa_1maxannual: xclim.core.indicator.RETURN_LEVEL(da=qobs, mode=&#x27;max&#x27;, t=(2, 5, 10, 25, 50, 100), dist=&#x27;gumbel_r&#x27;, window=1, freq=None) with options check_missing=skip - xclim version: 0.43.0</dd><dt><span>cell_methods :</span></dt><dd></dd><dt><span>mode :</span></dt><dd>max</dd></dl></div></li></ul></div></div>"
     },
     "execution_count": 2,
     "metadata": {},
     "output_type": "execute_result"
    }
   ],
   "source": [
    "# Get the data that we will be using for the demonstration.\n",
    "file = \"raven-gr4j-cemaneige/Salmon-River-Near-Prince-George_meteo_daily.nc\"\n",
    "ts = open_dataset(file).qobs\n",
    "\n",
    "# Perform the frequency analysis for various return periods. We compute 2, 5, 10, 25, 50 and 100 year return\n",
    "# periods, but later on we will only compare the forecasts to the 2 year return period.\n",
    "out = xclim.generic.return_level(\n",
    "    ts, mode=\"max\", t=(2, 5, 10, 25, 50, 100), dist=\"gumbel_r\"\n",
    ")\n",
    "out"
   ]
  },
  {
   "cell_type": "code",
   "execution_count": 3,
   "id": "appointed-toner",
   "metadata": {},
   "outputs": [
    {
     "name": "stdout",
     "output_type": "stream",
     "text": [
      "Threshold: 186.4\n"
     ]
    },
    {
     "data": {
      "text/plain": "Text(25, 10, 'Flow threshold, set at 2-year return period')"
     },
     "execution_count": 3,
     "metadata": {},
     "output_type": "execute_result"
    },
    {
     "data": {
      "text/plain": "<Figure size 640x480 with 1 Axes>",
      "image/png": "[encoded data removed]"
     },
     "metadata": {},
     "output_type": "display_data"
    }
   ],
   "source": [
    "# Plot the results of the flows as a function of return period.\n",
    "fig, ax = plt.subplots(1)\n",
    "lines = out.plot(ax=ax)\n",
    "\n",
    "# Get 2-year return period from the frequency analysis\n",
    "threshold = out.sel(return_period=2).values\n",
    "print(f\"Threshold: {threshold:.1f}\")\n",
    "\n",
    "pt = ax.plot([2], [threshold], \"ro\")\n",
    "\n",
    "ax.annotate(\n",
    "    \"Flow threshold, set at 2-year return period\",\n",
    "    (2, threshold),\n",
    "    xytext=(25, 10),\n",
    "    textcoords=\"offset points\",\n",
    "    arrowprops=dict(arrowstyle=\"->\", connectionstyle=\"arc3\"),\n",
    ")"
   ]
  },
  {
   "cell_type": "markdown",
   "id": "explicit-accent",
   "metadata": {},
   "source": [
    "## Probabilistic forecast\n",
    "\n",
    "In this example, we will perform an ensemble hydrological forecast and will then compute the probability of flooding given a flooding threshold. Start by building the model configuration as in the Tutorial Notebook 11:"
   ]
  },
  {
   "cell_type": "code",
   "execution_count": null,
   "id": "excessive-apparatus",
   "metadata": {
    "execution": {
     "iopub.execute_input": "2021-09-08T20:34:06.026173Z",
     "iopub.status.busy": "2021-09-08T20:34:06.025792Z",
     "iopub.status.idle": "2021-09-08T20:34:21.490991Z",
     "shell.execute_reply": "2021-09-08T20:34:21.490647Z"
    },
    "pycharm": {
     "is_executing": true
    }
   },
   "outputs": [
    {
     "name": "stderr",
     "output_type": "stream",
     "text": [
      "/home/tjs/mambaforge/envs/RavenPy/lib/python3.10/site-packages/tqdm/auto.py:21: TqdmWarning: IProgress not found. Please update jupyter and ipywidgets. See https://ipywidgets.readthedocs.io/en/stable/user_install.html\n",
      "  from .autonotebook import tqdm as notebook_tqdm\n"
     ]
    }
   ],
   "source": [
    "from ravenpy.config import commands as rc\n",
    "from ravenpy.config.emulators import GR4JCN\n",
    "from ravenpy.utilities.forecasting import climatology_esp, compute_forecast_flood_risk\n",
    "\n",
    "# Choose the forecast date. Each forecast will start with the same day and month.\n",
    "# For example, jan-05-2001 will compare the climatology using all jan-05ths from the dataset)\n",
    "fdate = dt.datetime(2003, 4, 13)\n",
    "\n",
    "# The dataset to use to get the forecast timeseries:\n",
    "duration = 30  # Length in days of the climatological ESP forecast\n",
    "\n",
    "# Define HRU to build the hydrological model\n",
    "hru = dict(\n",
    "    area=4250.6,\n",
    "    elevation=843.0,\n",
    "    latitude=54.4848,\n",
    "    longitude=-123.3659,\n",
    "    hru_type=\"land\",\n",
    ")\n",
    "\n",
    "# Set alternative names for netCDF variables\n",
    "alt_names = {\n",
    "    \"TEMP_MIN\": \"tmin\",\n",
    "    \"TEMP_MAX\": \"tmax\",\n",
    "    \"RAINFALL\": \"rain\",\n",
    "    \"SNOWFALL\": \"snow\",\n",
    "}\n",
    "\n",
    "# Data types to extract from netCDF\n",
    "data_type = [\"TEMP_MAX\", \"TEMP_MIN\", \"RAINFALL\", \"SNOWFALL\"]\n",
    "data_kwds = {\n",
    "    \"ALL\": {\n",
    "        \"elevation\": hru[\n",
    "            \"elevation\"\n",
    "        ],  # No need for lat/lon as they are included in the netcdf file already\n",
    "    }\n",
    "}\n",
    "# Model configuration\n",
    "model_config = GR4JCN(\n",
    "    params=[0.529, -3.396, 407.29, 1.072, 16.9, 0.947],\n",
    "    Gauge=[\n",
    "        rc.Gauge.from_nc(\n",
    "            get_file(file),\n",
    "            data_type=data_type,\n",
    "            alt_names=alt_names,\n",
    "            data_kwds=data_kwds,\n",
    "        )\n",
    "    ],\n",
    "    HRUs=[hru],\n",
    "    StartDate=fdate,\n",
    "    Duration=duration,\n",
    "    RunName=\"Probabilistic_flood_risk_NB\",\n",
    ")"
   ]
  },
  {
   "cell_type": "markdown",
   "id": "8308cde3",
   "metadata": {},
   "source": [
    "Now that the configuration is ready, launch the ESP forecasting tool to generate an ensemble hydrological forecast:"
   ]
  },
  {
   "cell_type": "code",
   "execution_count": null,
   "id": "0c0b126a",
   "metadata": {
    "pycharm": {
     "is_executing": true
    }
   },
   "outputs": [],
   "source": [
    "# Launch the ESP forecasting method\n",
    "ESP_sims = climatology_esp(\n",
    "    config=model_config,\n",
    ")\n",
    "\n",
    "# Show the results in an xarray dataset, ready to use:\n",
    "ESP_sims.hydrograph"
   ]
  },
  {
   "cell_type": "code",
   "execution_count": null,
   "id": "embedded-patrol",
   "metadata": {
    "pycharm": {
     "is_executing": true
    }
   },
   "outputs": [],
   "source": [
    "# Plot the forecasts and the 2-year threshold previously estimated\n",
    "fig, ax = plt.subplots(1)\n",
    "ESP_sims.hydrograph.q_sim[:, :, 0].plot.line(\n",
    "    ax=ax, hue=\"member\", add_legend=False, color=\"gray\", lw=0.5\n",
    ")\n",
    "t = ax.axhline(threshold, color=\"red\")"
   ]
  },
  {
   "cell_type": "code",
   "execution_count": null,
   "id": "british-bunch",
   "metadata": {
    "pycharm": {
     "is_executing": true
    }
   },
   "outputs": [],
   "source": [
    "# Now compute the flood risk given the probabilistic forecast and the threshold associated to the 2-year return\n",
    "# period.\n",
    "\n",
    "threshold = out.sel(return_period=2).values\n",
    "\n",
    "# Run the flood forecast risk tool to extract the probability of exceedance in netcdf format and xarray Dataset format\n",
    "flood_risk_data = compute_forecast_flood_risk(\n",
    "    forecast=ESP_sims.hydrograph.q_sim,\n",
    "    flood_level=threshold,\n",
    ")\n",
    "\n",
    "# Extract the data and plot\n",
    "fig, ax = plt.subplots(1)\n",
    "l = flood_risk_data.exceedance_probability.plot()\n",
    "ax.set_ylabel(\"Flood risk\")"
   ]
  },
  {
   "cell_type": "markdown",
   "id": "surface-constitutional",
   "metadata": {},
   "source": [
    "### Results analysis\n",
    "We can see from the above figure that there is no risk of exceeding the 2-year return period for the selected dates of the forecast.\n"
   ]
  }
 ],
 "metadata": {
  "kernelspec": {
   "display_name": "Python 3 (ipykernel)",
   "language": "python",
   "name": "python3"
  },
  "language_info": {
   "codemirror_mode": {
    "name": "ipython",
    "version": 3
   },
   "file_extension": ".py",
   "mimetype": "text/x-python",
   "name": "python",
   "nbconvert_exporter": "python",
   "pygments_lexer": "ipython3",
   "version": "3.10.9"
  }
 },
 "nbformat": 4,
 "nbformat_minor": 5
}
