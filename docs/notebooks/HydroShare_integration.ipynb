{
 "cells": [
  {
   "cell_type": "markdown",
   "metadata": {
    "id": "HHsuQMMJyms4"
   },
   "source": [
    "# HS RDF HydroShare Python Client Basic Resource Operation Examples \n",
    "\n",
    "\n",
    "---\n",
    "\n",
    "\n",
    "The following code snippets show examples for how to use the HS RDF HydroShare Python Client for performing basic resource operations. "
   ]
  },
  {
   "cell_type": "markdown",
   "metadata": {
    "id": "b_Tj5gJx0fRj"
   },
   "source": [
    "## Install the HS RDF Python Client\n",
    "\n",
    "The HS RDF Python Client for HydroShare won't be installed by default, so it has to be installed first before you can work with it. Use the following command to install the Python Client from the GitHub repository. Eventually we will distribute this package via the Python Package Index (PyPi) so that it can be installed via pip from PyPi."
   ]
  },
  {
   "cell_type": "code",
   "execution_count": null,
   "metadata": {
    "id": "hzriLgMl0oJ2"
   },
   "outputs": [],
   "source": [
    "!pip install hs_restclient"
   ]
  },
  {
   "cell_type": "markdown",
   "metadata": {
    "id": "CZNOazcn9-23"
   },
   "source": [
    "## Authenticating with HydroShare\n",
    "\n",
    "Before you start interacting with resources in HydroShare you will need to authenticate. To authenticate with HydroShare, you can either specify your username and password or you can call the `sign_in()` function, which will prompt you to input your username and password. "
   ]
  },
  {
   "cell_type": "markdown",
   "metadata": {},
   "source": [
    "In most cases you will not want anyone to see your username and password, so you can also call the `sign_in()` function to be prompted for your username and password. This is better to use if you are sharing a Jupyter Notebook."
   ]
  },
  {
   "cell_type": "code",
   "execution_count": null,
   "metadata": {},
   "outputs": [],
   "source": [
    "# SKIP THIS. I USE THE AUTH METHOD BELOW.\n",
    "\"\"\"\n",
    "from hsclient import HydroShare\n",
    "hs = HydroShare()\n",
    "hs.sign_in()\n",
    "\"\"\""
   ]
  },
  {
   "cell_type": "code",
   "execution_count": null,
   "metadata": {},
   "outputs": [],
   "source": [
    "from hs_restclient import HydroShare, HydroShareAuthBasic\n",
    "\n",
    "username = \"XXXXX\"\n",
    "password = \"XXXXX\"\n",
    "\n",
    "auth = HydroShareAuthBasic(username=username, password=password)\n",
    "hs = HydroShare(auth=auth)"
   ]
  },
  {
   "cell_type": "code",
   "execution_count": null,
   "metadata": {},
   "outputs": [],
   "source": [
    "# for resource in hs.resources(): # Careful, this takes quite a while. Probably better to use filters...\n",
    "#    print(resource) <-- Scans ALL packages/resources\n",
    "\n",
    "# Here I reduce the selection by filtering for \"streamflow\". Can use comma separated values, or other filters. See here:\n",
    "# https://hs-restclient.readthedocs.io/en/latest/\n",
    "for resource in hs.resources(subject=\"streamflow\"):\n",
    "    print(resource)"
   ]
  },
  {
   "cell_type": "code",
   "execution_count": null,
   "metadata": {},
   "outputs": [],
   "source": [
    "# Get one of the datasets based on \"resource_id\"\n",
    "import os\n",
    "\n",
    "os.mkdir(\n",
    "    \"/notebook_dir/writable-workspace/tmp_test2\"\n",
    ")  # Make folder where results will be written\n",
    "hs.getResource(\n",
    "    \"18c8969ecb32409b9cc216c0b882a0b8\",\n",
    "    destination=\"/notebook_dir/writable-workspace/tmp_test2\",\n",
    "    unzip=True,\n",
    ")  # Donwload the data from the resource."
   ]
  }
 ],
 "metadata": {
  "colab": {
   "collapsed_sections": [],
   "name": "HS_RDF_Examples.ipynb",
   "provenance": [],
   "toc_visible": true
  },
  "kernelspec": {
   "display_name": "Python 3 (ipykernel)",
   "language": "python",
   "name": "python3"
  },
  "language_info": {
   "codemirror_mode": {
    "name": "ipython",
    "version": 3
   },
   "file_extension": ".py",
   "mimetype": "text/x-python",
   "name": "python",
   "nbconvert_exporter": "python",
   "pygments_lexer": "ipython3",
   "version": "3.8.15"
  }
 },
 "nbformat": 4,
 "nbformat_minor": 4
}
