{
 "cells": [
  {
   "cell_type": "markdown",
   "metadata": {
    "id": "HHsuQMMJyms4"
   },
   "source": [
    "# Accessing HydroShare content\n",
    "\n",
    "The following code snippets show examples for how to use the HydroShare Python Client for search and acquire data. See the [documentation](https://hydroshare.github.io/hsclient/) to explore further."
   ]
  },
  {
   "cell_type": "markdown",
   "metadata": {
    "id": "CZNOazcn9-23"
   },
   "source": [
    "## Authenticating with HydroShare\n",
    "\n",
    "Before you start interacting with resources in HydroShare you will need to authenticate. Just call `hsclient.Hydroshare()` to be prompted for your username and password. You may also pass your credentials programatically. For this public notebook, we use a token and client_id to authenticate. "
   ]
  },
  {
   "cell_type": "markdown",
   "metadata": {},
   "source": []
  },
  {
   "cell_type": "code",
   "execution_count": null,
   "metadata": {
    "tags": []
   },
   "outputs": [],
   "source": [
    "import os\n",
    "\n",
    "from hsclient import HydroShare, Token\n",
    "\n",
    "# Authentication method using username and password\n",
    "\"\"\"\n",
    "username = 'XXXXX'\n",
    "password = 'XXXXX'\n",
    "hs = HydroShare(username=username, password=password)\n",
    "\"\"\"\n",
    "\n",
    "client_id = os.environ.get(\"HYDROSHARE_AUTH_CLIENT_ID\", \"<your_client_id>\")\n",
    "access_token = os.environ.get(\"HYDROSHARE_AUTH_TOKEN\", \"<your_auth_token>\")\n",
    "\n",
    "token = Token(access_token=access_token, token_type=\"bearer\")\n",
    "hs = HydroShare(client_id=client_id, token=token)"
   ]
  },
  {
   "cell_type": "markdown",
   "metadata": {},
   "source": [
    "Now that we're authenticated, let's search for data from the 2017 Harvey flood. "
   ]
  },
  {
   "cell_type": "code",
   "execution_count": null,
   "metadata": {
    "tags": []
   },
   "outputs": [],
   "source": [
    "results = hs.search(subject=[\"Harvey\"])\n",
    "for r in results:\n",
    "    print(r.resource_title, \": \", r.resource_id)"
   ]
  },
  {
   "cell_type": "markdown",
   "metadata": {},
   "source": [
    "HydroShare resources are identified uniquely by their `resource_id`. Here we use the ID for the `USGS - Harvey Gaged Streamflow Timeseries` to see which files are stored. "
   ]
  },
  {
   "cell_type": "code",
   "execution_count": null,
   "metadata": {
    "tags": []
   },
   "outputs": [],
   "source": [
    "res = hs.resource(\"51d1539bf6e94b15ac33f7631228118c\", validate=False)\n",
    "res.files()"
   ]
  },
  {
   "cell_type": "markdown",
   "metadata": {},
   "source": [
    "Now we can simply use the `file_download` method to save a copy locally. "
   ]
  },
  {
   "cell_type": "code",
   "execution_count": null,
   "metadata": {
    "tags": []
   },
   "outputs": [],
   "source": [
    "res.file_download(\"USGS_Harvey_gages_TxLaMsAr.csv\", save_path=\"/tmp\")"
   ]
  },
  {
   "cell_type": "markdown",
   "metadata": {},
   "source": [
    "From here, the data are stored locally and can be integrated into workflows.\n"
   ]
  }
 ],
 "metadata": {
  "colab": {
   "collapsed_sections": [],
   "name": "HS_RDF_Examples.ipynb",
   "provenance": [],
   "toc_visible": true
  },
  "language_info": {
   "codemirror_mode": {
    "name": "ipython",
    "version": 3
   },
   "file_extension": ".py",
   "mimetype": "text/x-python",
   "name": "python",
   "nbconvert_exporter": "python",
   "pygments_lexer": "ipython3",
   "version": "3.9.16"
  }
 },
 "nbformat": 4,
 "nbformat_minor": 4
}
