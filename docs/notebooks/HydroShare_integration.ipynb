{
 "cells": [
  {
   "cell_type": "markdown",
   "metadata": {
    "id": "HHsuQMMJyms4"
   },
   "source": [
    "# Accessing HydroShare content\n",
    "\n",
    "The following code snippets show examples for how to use the HS RDF HydroShare Python Client for performing basic resource operations."
   ]
  },
  {
   "cell_type": "markdown",
   "metadata": {
    "id": "CZNOazcn9-23"
   },
   "source": [
    "## Authenticating with HydroShare\n",
    "\n",
    "Before you start interacting with resources in HydroShare you will need to authenticate. To authenticate with HydroShare, you can either specify your username and password or you can call the `sign_in()` function, which will prompt you to input your username and password."
   ]
  },
  {
   "cell_type": "markdown",
   "metadata": {},
   "source": [
    "In most cases you will not want anyone to see your username and password, so you can also call the `sign_in()` function to be prompted for your username and password. This is better to use if you are sharing a Jupyter Notebook."
   ]
  },
  {
   "cell_type": "code",
   "execution_count": 11,
   "metadata": {},
   "outputs": [
    {
     "name": "stdout",
     "output_type": "stream",
     "text": [
      "Username: richardarsenault\n",
      "Password for richardarsenault: ········\n"
     ]
    }
   ],
   "source": [
    "from hs_restclient import HydroShare, HydroShareAuthBasic\n",
    "\n",
    "# Auth method\n",
    "\"\"\"\n",
    "username = 'XXXXX'\n",
    "password = 'XXXXX'\n",
    "auth = HydroShareAuthBasic(username=username, password=password)\n",
    "hs = HydroShare(auth=auth)\n",
    "\"\"\"\n",
    "# Sign-in method, will prompt for HydroShare account username/password:\n",
    "hs = HydroShare()"
   ]
  },
  {
   "cell_type": "code",
   "execution_count": 16,
   "metadata": {
    "scrolled": false
   },
   "outputs": [
    {
     "data": {
      "text/plain": [
       "{'resource_type': 'CollectionResource',\n",
       " 'resource_id': 'bdb2e6ac7e9f46d58e985a9739145fb3',\n",
       " 'resource_title': 'NCC Tall Grass Prairie Preserve',\n",
       " 'abstract': \"The NCC Tall Grass Prairie Preserve resource collection contains a LiDAR-based digital elevation model, derivative grids, and ancillary spatial data  in the vicinity of Nature Conservancy Canada's Weston Family Tall Grass Prairie Interpretive Centre, located in Stuartburn Rural Municipality, southeast Manitoba, Canada.\",\n",
       " 'authors': ['Phil Gerla'],\n",
       " 'creator': 'Phil Gerla',\n",
       " 'doi': None,\n",
       " 'public': True,\n",
       " 'discoverable': True,\n",
       " 'shareable': True,\n",
       " 'immutable': False,\n",
       " 'published': False,\n",
       " 'date_created': '2016-07-13T19:46:45.156387Z',\n",
       " 'date_last_updated': '2016-10-05T14:53:09.128611Z',\n",
       " 'bag_url': 'http://www.hydroshare.org/django_irods/rest_download/bags/bdb2e6ac7e9f46d58e985a9739145fb3.zip?url_download=False&zipped=False&aggregation=False',\n",
       " 'coverages': [{'type': 'point',\n",
       "   'value': {'units': 'Decimal degrees',\n",
       "    'east': -96.72920644283295,\n",
       "    'north': 49.152752125384296,\n",
       "    'name': 'NCC Weston Family Tall Grass Prairie Interpretive Centre',\n",
       "    'projection': 'WGS 84 EPSG:4326'}}],\n",
       " 'science_metadata_url': 'http://www.hydroshare.org/hsapi/resource/bdb2e6ac7e9f46d58e985a9739145fb3/scimeta/',\n",
       " 'resource_map_url': 'http://www.hydroshare.org/hsapi/resource/bdb2e6ac7e9f46d58e985a9739145fb3/map/',\n",
       " 'resource_url': 'http://www.hydroshare.org/resource/bdb2e6ac7e9f46d58e985a9739145fb3/',\n",
       " 'content_types': []}"
      ]
     },
     "metadata": {},
     "output_type": "display_data"
    },
    {
     "data": {
      "text/plain": [
       "{'resource_type': 'CompositeResource',\n",
       " 'resource_id': '6be7b304e0ca4ae7a046647b07e851af',\n",
       " 'resource_title': 'NCC Tall Grass Prairie Interpretive Centre AOI',\n",
       " 'abstract': \"The NCC Tall Grass Prairie Preserve resource collection contains a LiDAR-based digital elevation model and derivative grids in the vicinity of Nature Conservancy Canada's Weston Family Tall Grass Prairie Interpretive Centre, located in Stuartburn Rural Municipality, southeast Manitoba, Canada. This shape file, visitor_centre_clip, contains one polygon delineating the area of interest (AOI), which outlines the associated grids.\",\n",
       " 'authors': ['Phil Gerla'],\n",
       " 'creator': 'Phil Gerla',\n",
       " 'doi': None,\n",
       " 'public': True,\n",
       " 'discoverable': True,\n",
       " 'shareable': True,\n",
       " 'immutable': False,\n",
       " 'published': False,\n",
       " 'date_created': '2016-07-13T21:48:50.885138Z',\n",
       " 'date_last_updated': '2016-07-13T22:07:54.774309Z',\n",
       " 'bag_url': 'http://www.hydroshare.org/django_irods/rest_download/bags/6be7b304e0ca4ae7a046647b07e851af.zip?url_download=False&zipped=False&aggregation=False',\n",
       " 'coverages': [{'type': 'box',\n",
       "   'value': {'northlimit': 49.18476672335955,\n",
       "    'projection': 'WGS 84 EPSG:4326',\n",
       "    'units': 'Decimal degrees',\n",
       "    'southlimit': 49.131218840945195,\n",
       "    'eastlimit': -96.66762281348629,\n",
       "    'westlimit': -96.74719437796493}}],\n",
       " 'science_metadata_url': 'http://www.hydroshare.org/hsapi/resource/6be7b304e0ca4ae7a046647b07e851af/scimeta/',\n",
       " 'resource_map_url': 'http://www.hydroshare.org/hsapi/resource/6be7b304e0ca4ae7a046647b07e851af/map/',\n",
       " 'resource_url': 'http://www.hydroshare.org/resource/6be7b304e0ca4ae7a046647b07e851af/',\n",
       " 'content_types': []}"
      ]
     },
     "metadata": {},
     "output_type": "display_data"
    },
    {
     "data": {
      "text/plain": [
       "{'resource_type': 'CompositeResource',\n",
       " 'resource_id': '6a5acc2746ef42ec848948efb9b8e111',\n",
       " 'resource_title': 'NCC Tall Grass Prairie Preserve, Interpretive Centre digital elevation model',\n",
       " 'abstract': \"The NCC Tall Grass Prairie Preserve resource collection contains a LiDAR-based digital elevation model and derivative grids in the vicinity of Nature Conservancy Canada's Weston Family Tall Grass Prairie Interpretive Centre, located in Stuartburn Rural Municipality, southeast Manitoba, Canada. This ESRI grid file, vc_dem, contains a 1 m square raster of processed LiDAR ground return data, and is hydrologically corrected to include culverts. The area of the grid is give in the associated polygon shape file that delineates the area of interest (AOI).\",\n",
       " 'authors': ['Phil Gerla'],\n",
       " 'creator': 'Phil Gerla',\n",
       " 'doi': None,\n",
       " 'public': True,\n",
       " 'discoverable': True,\n",
       " 'shareable': True,\n",
       " 'immutable': False,\n",
       " 'published': False,\n",
       " 'date_created': '2016-07-13T22:22:32.602685Z',\n",
       " 'date_last_updated': '2016-07-13T22:26:53.605505Z',\n",
       " 'bag_url': 'http://www.hydroshare.org/django_irods/rest_download/bags/6a5acc2746ef42ec848948efb9b8e111.zip?url_download=False&zipped=False&aggregation=False',\n",
       " 'coverages': [],\n",
       " 'science_metadata_url': 'http://www.hydroshare.org/hsapi/resource/6a5acc2746ef42ec848948efb9b8e111/scimeta/',\n",
       " 'resource_map_url': 'http://www.hydroshare.org/hsapi/resource/6a5acc2746ef42ec848948efb9b8e111/map/',\n",
       " 'resource_url': 'http://www.hydroshare.org/resource/6a5acc2746ef42ec848948efb9b8e111/',\n",
       " 'content_types': []}"
      ]
     },
     "metadata": {},
     "output_type": "display_data"
    },
    {
     "data": {
      "text/plain": [
       "{'resource_type': 'CompositeResource',\n",
       " 'resource_id': '5b714198621c4aa6adbc929d5eeb0bf1',\n",
       " 'resource_title': 'NCC Tall Grass Prairie Preserve, Interpretive Centre MrSID imagery',\n",
       " 'abstract': \"The NCC Tall Grass Prairie Preserve resource collection contains a LiDAR-based digital elevation model and derivative grids in the vicinity of Nature Conservancy Canada's Weston Family Tall Grass Prairie Interpretive Centre, located in Stuartburn Rural Municipality, southeast Manitoba, Canada. This ESRI grid file, vc_mrsid, contains aerial imagery obtained from the Manitoba Land Initiative. The area of the grid is given in the associated polygon shape file that delineates the area of interest (AOI). \",\n",
       " 'authors': ['Phil Gerla'],\n",
       " 'creator': 'Phil Gerla',\n",
       " 'doi': None,\n",
       " 'public': True,\n",
       " 'discoverable': True,\n",
       " 'shareable': True,\n",
       " 'immutable': False,\n",
       " 'published': False,\n",
       " 'date_created': '2016-07-13T23:41:35.872910Z',\n",
       " 'date_last_updated': '2016-07-13T23:51:27.612657Z',\n",
       " 'bag_url': 'http://www.hydroshare.org/django_irods/rest_download/bags/5b714198621c4aa6adbc929d5eeb0bf1.zip?url_download=False&zipped=False&aggregation=False',\n",
       " 'coverages': [],\n",
       " 'science_metadata_url': 'http://www.hydroshare.org/hsapi/resource/5b714198621c4aa6adbc929d5eeb0bf1/scimeta/',\n",
       " 'resource_map_url': 'http://www.hydroshare.org/hsapi/resource/5b714198621c4aa6adbc929d5eeb0bf1/map/',\n",
       " 'resource_url': 'http://www.hydroshare.org/resource/5b714198621c4aa6adbc929d5eeb0bf1/',\n",
       " 'content_types': []}"
      ]
     },
     "metadata": {},
     "output_type": "display_data"
    },
    {
     "data": {
      "text/plain": [
       "{'resource_type': 'CompositeResource',\n",
       " 'resource_id': '672f7f05ec064ee5940ff9c80f1f28ac',\n",
       " 'resource_title': 'NCC Tall Grass Prairie Preserve, Interpretive Centre ditch pour point',\n",
       " 'abstract': \"The NCC Tall Grass Prairie Preserve resource collection contains a LiDAR-based digital elevation model and derivative grids in the vicinity of Nature Conservancy Canada's Weston Family Tall Grass Prairie Interpretive Centre, located in Stuartburn Rural Municipality, southeast Manitoba, Canada. This ESRI point shape file, vc_ditch_pour_point, contains one point that lies within the channel of the ditch that drains the area around the Interpretive Centre, immediately upstream from the confluence with Vita Drain. \",\n",
       " 'authors': ['Phil Gerla'],\n",
       " 'creator': 'Phil Gerla',\n",
       " 'doi': None,\n",
       " 'public': True,\n",
       " 'discoverable': True,\n",
       " 'shareable': True,\n",
       " 'immutable': False,\n",
       " 'published': False,\n",
       " 'date_created': '2016-07-14T00:58:56.760656Z',\n",
       " 'date_last_updated': '2016-07-14T01:07:04.746329Z',\n",
       " 'bag_url': 'http://www.hydroshare.org/django_irods/rest_download/bags/672f7f05ec064ee5940ff9c80f1f28ac.zip?url_download=False&zipped=False&aggregation=False',\n",
       " 'coverages': [],\n",
       " 'science_metadata_url': 'http://www.hydroshare.org/hsapi/resource/672f7f05ec064ee5940ff9c80f1f28ac/scimeta/',\n",
       " 'resource_map_url': 'http://www.hydroshare.org/hsapi/resource/672f7f05ec064ee5940ff9c80f1f28ac/map/',\n",
       " 'resource_url': 'http://www.hydroshare.org/resource/672f7f05ec064ee5940ff9c80f1f28ac/',\n",
       " 'content_types': []}"
      ]
     },
     "metadata": {},
     "output_type": "display_data"
    },
    {
     "data": {
      "text/plain": [
       "{'resource_type': 'CompositeResource',\n",
       " 'resource_id': 'd79be06bbb584994b8e0ca238850948d',\n",
       " 'resource_title': 'NCC Tall Grass Prairie Preserve, Interpretive Centre, proposed ditch diversion',\n",
       " 'abstract': \"The NCC Tall Grass Prairie Preserve resource collection contains a LiDAR-based digital elevation model and derivative grids in the vicinity of Nature Conservancy Canada's Weston Family Tall Grass Prairie Interpretive Centre, located in Stuartburn Rural Municipality, southeast Manitoba, Canada. This ESRI point shape file,diversion_channel.shp, contains a single line with multiple vertices. It follows roughly the natural course that storm water would flow if the drainage ditch due east of the interpretive centre were to be plugged.\",\n",
       " 'authors': ['Phil Gerla'],\n",
       " 'creator': 'Phil Gerla',\n",
       " 'doi': None,\n",
       " 'public': True,\n",
       " 'discoverable': True,\n",
       " 'shareable': True,\n",
       " 'immutable': False,\n",
       " 'published': False,\n",
       " 'date_created': '2016-07-14T01:26:23.376041Z',\n",
       " 'date_last_updated': '2016-07-14T01:31:22.807069Z',\n",
       " 'bag_url': 'http://www.hydroshare.org/django_irods/rest_download/bags/d79be06bbb584994b8e0ca238850948d.zip?url_download=False&zipped=False&aggregation=False',\n",
       " 'coverages': [],\n",
       " 'science_metadata_url': 'http://www.hydroshare.org/hsapi/resource/d79be06bbb584994b8e0ca238850948d/scimeta/',\n",
       " 'resource_map_url': 'http://www.hydroshare.org/hsapi/resource/d79be06bbb584994b8e0ca238850948d/map/',\n",
       " 'resource_url': 'http://www.hydroshare.org/resource/d79be06bbb584994b8e0ca238850948d/',\n",
       " 'content_types': []}"
      ]
     },
     "metadata": {},
     "output_type": "display_data"
    },
    {
     "data": {
      "text/plain": [
       "{'resource_type': 'CompositeResource',\n",
       " 'resource_id': '650ba9303d5942c2b36fa5beafbf612a',\n",
       " 'resource_title': 'BEREV data 2017-2018',\n",
       " 'abstract': \"This dataset is supplementary information to: Schilling et al. (2021): Quantifying groundwater recharge dynamics and unsaturated zone processes in snow‐dominated catchments via on‐site dissolved gas analysis. Water Resour. Res., e2020WR028479. doi: 10.1029/2020WR028479\\r\\n\\r\\nThe data was used to develop a novel tracer method for the quantification of groundwater recharge from snowmelt and includes hydraulic, snow, meteorologic and tracer measurements covering the period of Nov-2017 to Dec-2018. The data was recorded in the experimental boral headwater catchment 'Bassin Expérimental du Ruisseau des Eaux-Volées' (BEREV) of Université Laval, located in the Forêt Montmorency, Québec, Canada.\",\n",
       " 'authors': ['Schilling, Oliver S.',\n",
       "  'Parajuli, Achut',\n",
       "  'Tremblay Otis, Catherine',\n",
       "  'Müller, Tanja U.',\n",
       "  'Antolinez Quijano, Walter',\n",
       "  'Tremblay, Yohann',\n",
       "  'Nadeau, Daniel F.',\n",
       "  'Brennwald, Matthias S.',\n",
       "  'Jutras, Sylvain',\n",
       "  'Kipfer, Rolf',\n",
       "  'Therrien, René'],\n",
       " 'creator': 'Schilling, Oliver S.',\n",
       " 'doi': '10.4211/hs.650ba9303d5942c2b36fa5beafbf612a',\n",
       " 'public': True,\n",
       " 'discoverable': True,\n",
       " 'shareable': False,\n",
       " 'immutable': True,\n",
       " 'published': True,\n",
       " 'date_created': '2019-08-08T04:36:34.446735Z',\n",
       " 'date_last_updated': '2021-01-06T09:34:45.249213Z',\n",
       " 'bag_url': 'http://www.hydroshare.org/django_irods/rest_download/bags/650ba9303d5942c2b36fa5beafbf612a.zip?url_download=False&zipped=False&aggregation=False',\n",
       " 'coverages': [{'type': 'period',\n",
       "   'value': {'start': '2017-11-01', 'end': '2018-12-31'}},\n",
       "  {'type': 'point',\n",
       "   'value': {'units': 'Decimal degrees',\n",
       "    'east': -71.1613,\n",
       "    'north': 47.2898,\n",
       "    'name': 'Sub-basin 7A, BEREV, Foret Montmorency, Quebec, Canada',\n",
       "    'projection': 'WGS 84 EPSG:4326'}}],\n",
       " 'science_metadata_url': 'http://www.hydroshare.org/hsapi/resource/650ba9303d5942c2b36fa5beafbf612a/scimeta/',\n",
       " 'resource_map_url': 'http://www.hydroshare.org/hsapi/resource/650ba9303d5942c2b36fa5beafbf612a/map/',\n",
       " 'resource_url': 'http://www.hydroshare.org/resource/650ba9303d5942c2b36fa5beafbf612a/',\n",
       " 'content_types': []}"
      ]
     },
     "metadata": {},
     "output_type": "display_data"
    },
    {
     "data": {
      "text/plain": [
       "{'resource_type': 'CompositeResource',\n",
       " 'resource_id': '82326ee6288241f3a85ed1d01a3083d0',\n",
       " 'resource_title': 'MODIS snow persistence for Canada and Alaska 2001-2019',\n",
       " 'abstract': 'Snow persistence (SP) or the snow cover index (SCI), is the fraction of time that snow is present on the ground for a defined period. SP was calculated on a pixel by pixel basis using MODIS/Terra Snow Cover 8-Day L3 Global 500m Grid, Collection 6 obtained from the National Snow and Ice Data Center (NSIDC). We computed the 1 January – 3 July SP for each year as the fraction of 8-day MODIS images with snow present. \\r\\n\\r\\nFor more information on MODIS snow persistence please see:\\r\\n\\r\\n-Hammond, J. C., Saavedra, F. A., & Kampf, S. K. (2018). Global snow zone maps and trends in snow persistence 2001–2016. International Journal of Climatology, 38(12), 4369-4383.\\r\\n-Hammond, J. C., Saavedra, F. A., & Kampf, S. K. (2018). How does snow persistence relate to annual streamflow in mountain watersheds of the Western US with wet maritime and dry continental climates?. Water Resources Research, 54(4), 2605-2623.\\r\\n-Hammond, J. C., F. A. Saavedra, S. K. Kampf (2017). MODIS MOD10A2 derived snow persistence and no data index for the western U.S., HydroShare, https://doi.org/10.4211/hs.1c62269aa802467688d25540caf2467e',\n",
       " 'authors': ['Hammond, John'],\n",
       " 'creator': 'Hammond, John',\n",
       " 'doi': '10.4211/hs.82326ee6288241f3a85ed1d01a3083d0',\n",
       " 'public': True,\n",
       " 'discoverable': True,\n",
       " 'shareable': False,\n",
       " 'immutable': True,\n",
       " 'published': True,\n",
       " 'date_created': '2020-03-18T18:14:02.496618Z',\n",
       " 'date_last_updated': '2020-03-18T19:55:46.946250Z',\n",
       " 'bag_url': 'http://www.hydroshare.org/django_irods/rest_download/bags/82326ee6288241f3a85ed1d01a3083d0.zip?url_download=False&zipped=False&aggregation=False',\n",
       " 'coverages': [{'type': 'box',\n",
       "   'value': {'northlimit': 79.99999999281273,\n",
       "    'southlimit': 39.999999996428876,\n",
       "    'eastlimit': 28.94754257670456,\n",
       "    'westlimit': -156.64887469755448,\n",
       "    'projection': 'WGS 84 EPSG:4326',\n",
       "    'units': 'Decimal degrees'}},\n",
       "  {'type': 'period', 'value': {'start': '2001-01-01', 'end': '2019-07-03'}}],\n",
       " 'science_metadata_url': 'http://www.hydroshare.org/hsapi/resource/82326ee6288241f3a85ed1d01a3083d0/scimeta/',\n",
       " 'resource_map_url': 'http://www.hydroshare.org/hsapi/resource/82326ee6288241f3a85ed1d01a3083d0/map/',\n",
       " 'resource_url': 'http://www.hydroshare.org/resource/82326ee6288241f3a85ed1d01a3083d0/',\n",
       " 'content_types': []}"
      ]
     },
     "metadata": {},
     "output_type": "display_data"
    },
    {
     "data": {
      "text/plain": [
       "{'resource_type': 'CompositeResource',\n",
       " 'resource_id': '97d4169fd7f54299aa9d60e61a56314f',\n",
       " 'resource_title': 'Hydroviewer Canada',\n",
       " 'abstract': 'Streams and Gauging Stations Network in Canada',\n",
       " 'authors': ['Sanchez-Lozano, Jorge Luis'],\n",
       " 'creator': 'Sanchez-Lozano, Jorge Luis',\n",
       " 'doi': None,\n",
       " 'public': True,\n",
       " 'discoverable': True,\n",
       " 'shareable': True,\n",
       " 'immutable': False,\n",
       " 'published': False,\n",
       " 'date_created': '2022-05-27T09:48:56.975338Z',\n",
       " 'date_last_updated': '2022-05-27T09:57:42.894757Z',\n",
       " 'bag_url': 'http://www.hydroshare.org/django_irods/rest_download/bags/97d4169fd7f54299aa9d60e61a56314f.zip?url_download=False&zipped=False&aggregation=False',\n",
       " 'coverages': [{'type': 'box',\n",
       "   'value': {'northlimit': 59.98958333325731,\n",
       "    'southlimit': 41.43708333334351,\n",
       "    'eastlimit': -52.68333333370196,\n",
       "    'westlimit': -137.3566666667138,\n",
       "    'projection': 'WGS 84 EPSG:4326',\n",
       "    'units': 'Decimal degrees'}}],\n",
       " 'science_metadata_url': 'http://www.hydroshare.org/hsapi/resource/97d4169fd7f54299aa9d60e61a56314f/scimeta/',\n",
       " 'resource_map_url': 'http://www.hydroshare.org/hsapi/resource/97d4169fd7f54299aa9d60e61a56314f/map/',\n",
       " 'resource_url': 'http://www.hydroshare.org/resource/97d4169fd7f54299aa9d60e61a56314f/',\n",
       " 'content_types': []}"
      ]
     },
     "metadata": {},
     "output_type": "display_data"
    },
    {
     "data": {
      "text/plain": [
       "{'resource_type': 'CompositeResource',\n",
       " 'resource_id': '790fa65aebc24e4c98f2ee5a82cd3d7e',\n",
       " 'resource_title': 'Boreal peat extraction affects riverine export and processing of organic carbon and nutrients in contrasting wet and dry years',\n",
       " 'abstract': 'Land use and hydrology influence the transport and attenuation of dissolved organic carbon (DOC) and nutrients through river networks, affecting aquatic food webs, habitat, and water quality. Here, we studied how horticultural peat extraction affects DOC and nutrient dynamics in western Canada. During two contrasting hydrological years, we sampled >50 subcatchments and analyzed DOC and nutrient concentrations, dissolved organic matter (DOM) chemical composition, solute export, and relative downstream losses in the stream network. We found that headwaters with substantial peat extraction had twice the DOC concentration and 8-fold the dissolved inorganic nitrogen (DIN) concentration (primarily NH4+) compared to headwaters with intact peatlands. Peat extraction sites were point sources of DOC and DIN across the landscape, even in catchments with substantial agricultural activity. Conversely, DOM chemical composition differed by hydrological status rather than land use, with lower aromaticity in the dry year driven by a combination of deeper flowpaths and greater in-stream processing. Neither land use nor hydrology appeared to influence PO43- concentration, which was relatively high across the study region due to geology. Downstream attenuation of DOC and inorganic nutrients varied by solute and was modulated by stream discharge. The most rapid attenuation was found for PO43- and DIN, while DOC acted largely conservative. Attenuation of all solutes except PO43- was much greater in the dry than wet year. These results suggest that DOC from extracted peatlands will persist further downstream than DIN, and that climate-induced changes in hydrology will affect DOM composition and inorganic nutrient processing. Our study shows that peat extraction can influence DOC and nutrient dynamics even in watersheds with predominantly agricultural land use, and that mitigation options should be explored to improve water quality.',\n",
       " 'authors': ['Frei, Rebecca'],\n",
       " 'creator': 'Frei, Rebecca',\n",
       " 'doi': None,\n",
       " 'public': True,\n",
       " 'discoverable': True,\n",
       " 'shareable': True,\n",
       " 'immutable': False,\n",
       " 'published': False,\n",
       " 'date_created': '2022-08-29T19:55:10.986889Z',\n",
       " 'date_last_updated': '2022-08-29T21:19:57.456038Z',\n",
       " 'bag_url': 'http://www.hydroshare.org/django_irods/rest_download/bags/790fa65aebc24e4c98f2ee5a82cd3d7e.zip?url_download=False&zipped=False&aggregation=False',\n",
       " 'coverages': [{'type': 'box',\n",
       "   'value': {'projection': 'WGS 84 EPSG:4326',\n",
       "    'units': 'Decimal degrees',\n",
       "    'northlimit': 53.5578,\n",
       "    'eastlimit': -114.6627,\n",
       "    'southlimit': 53.3321,\n",
       "    'westlimit': -115.1214}},\n",
       "  {'type': 'period', 'value': {'start': '2020-06-01', 'end': '2021-09-30'}}],\n",
       " 'science_metadata_url': 'http://www.hydroshare.org/hsapi/resource/790fa65aebc24e4c98f2ee5a82cd3d7e/scimeta/',\n",
       " 'resource_map_url': 'http://www.hydroshare.org/hsapi/resource/790fa65aebc24e4c98f2ee5a82cd3d7e/map/',\n",
       " 'resource_url': 'http://www.hydroshare.org/resource/790fa65aebc24e4c98f2ee5a82cd3d7e/',\n",
       " 'content_types': []}"
      ]
     },
     "metadata": {},
     "output_type": "display_data"
    },
    {
     "data": {
      "text/plain": [
       "{'resource_type': 'CompositeResource',\n",
       " 'resource_id': 'c949a3dc4da44e42a09f768d370f33ef',\n",
       " 'resource_title': 'Global Hydrological Station Network',\n",
       " 'abstract': 'This resource contains the shapefiles with the global stations network with available streamflow data.',\n",
       " 'authors': ['Sanchez-Lozano, Jorge Luis'],\n",
       " 'creator': 'Sanchez-Lozano, Jorge Luis',\n",
       " 'doi': None,\n",
       " 'public': True,\n",
       " 'discoverable': True,\n",
       " 'shareable': True,\n",
       " 'immutable': False,\n",
       " 'published': False,\n",
       " 'date_created': '2023-03-04T09:26:58.907168Z',\n",
       " 'date_last_updated': '2023-03-06T10:05:56.974026Z',\n",
       " 'bag_url': 'http://www.hydroshare.org/django_irods/rest_download/bags/c949a3dc4da44e42a09f768d370f33ef.zip?url_download=False&zipped=False&aggregation=False',\n",
       " 'coverages': [{'type': 'box',\n",
       "   'value': {'northlimit': 59.56666900000005,\n",
       "    'southlimit': -50.26999999999998,\n",
       "    'eastlimit': 177.87560470000005,\n",
       "    'westlimit': -135.346275,\n",
       "    'projection': 'WGS 84 EPSG:4326',\n",
       "    'units': 'Decimal degrees'}}],\n",
       " 'science_metadata_url': 'http://www.hydroshare.org/hsapi/resource/c949a3dc4da44e42a09f768d370f33ef/scimeta/',\n",
       " 'resource_map_url': 'http://www.hydroshare.org/hsapi/resource/c949a3dc4da44e42a09f768d370f33ef/map/',\n",
       " 'resource_url': 'http://www.hydroshare.org/resource/c949a3dc4da44e42a09f768d370f33ef/',\n",
       " 'content_types': []}"
      ]
     },
     "metadata": {},
     "output_type": "display_data"
    },
    {
     "data": {
      "text/plain": [
       "{'resource_type': 'CompositeResource',\n",
       " 'resource_id': 'cff2657bc8244560b559320162bf8ce4',\n",
       " 'resource_title': 'Global Hydrological Stream Network',\n",
       " 'abstract': 'This resource contains the shapefiles with the streams network for different countries from the GEOGloWS ECMWF Streamflow Services (GESS) Global Hydrological Model.',\n",
       " 'authors': ['Sanchez-Lozano, Jorge Luis'],\n",
       " 'creator': 'Sanchez-Lozano, Jorge Luis',\n",
       " 'doi': None,\n",
       " 'public': True,\n",
       " 'discoverable': True,\n",
       " 'shareable': True,\n",
       " 'immutable': False,\n",
       " 'published': False,\n",
       " 'date_created': '2023-03-06T03:10:31.608533Z',\n",
       " 'date_last_updated': '2023-03-06T03:35:20.421805Z',\n",
       " 'bag_url': 'http://www.hydroshare.org/django_irods/rest_download/bags/cff2657bc8244560b559320162bf8ce4.zip?url_download=False&zipped=False&aggregation=False',\n",
       " 'coverages': [{'type': 'box',\n",
       "   'value': {'northlimit': 59.98958333325731,\n",
       "    'southlimit': -43.6004166235268,\n",
       "    'eastlimit': 153.58583331691884,\n",
       "    'westlimit': -138.17791666658826,\n",
       "    'projection': 'WGS 84 EPSG:4326',\n",
       "    'units': 'Decimal degrees'}}],\n",
       " 'science_metadata_url': 'http://www.hydroshare.org/hsapi/resource/cff2657bc8244560b559320162bf8ce4/scimeta/',\n",
       " 'resource_map_url': 'http://www.hydroshare.org/hsapi/resource/cff2657bc8244560b559320162bf8ce4/map/',\n",
       " 'resource_url': 'http://www.hydroshare.org/resource/cff2657bc8244560b559320162bf8ce4/',\n",
       " 'content_types': []}"
      ]
     },
     "metadata": {},
     "output_type": "display_data"
    }
   ],
   "source": [
    "# for resource in hs.resources(): # Careful, this takes quite a while. Probably better to use filters...\n",
    "#    print(resource) <-- Scans ALL packages/resources\n",
    "\n",
    "# Here I reduce the selection by filtering for \"streamflow\" and \"Canada\". Can use comma separated values, or other filters. See here:\n",
    "# https://hs-restclient.readthedocs.io/en/latest/\n",
    "for resource in hs.resources(subject=[\"streamflow\", \"Canada\"]):\n",
    "    display(resource)"
   ]
  },
  {
   "cell_type": "code",
   "execution_count": 22,
   "metadata": {},
   "outputs": [],
   "source": [
    "# Get one of the datasets based on \"resource_id\"\n",
    "\n",
    "# Make folder where results will be written\n",
    "workdir = \"/tmp/tmp_Hydroshare/\"\n",
    "os.mkdir(workdir)\n",
    "\n",
    "# Donwload the data from the resource.\n",
    "hs.getResource(\"650ba9303d5942c2b36fa5beafbf612a\", destination=workdir, unzip=True)"
   ]
  },
  {
   "cell_type": "markdown",
   "metadata": {},
   "source": [
    "From here, the data are stored locally and can be integrated into workflows.\n"
   ]
  }
 ],
 "metadata": {
  "colab": {
   "collapsed_sections": [],
   "name": "HS_RDF_Examples.ipynb",
   "provenance": [],
   "toc_visible": true
  },
  "kernelspec": {
   "display_name": "Python 3 (ipykernel)",
   "language": "python",
   "name": "python3"
  },
  "language_info": {
   "codemirror_mode": {
    "name": "ipython",
    "version": 3
   },
   "file_extension": ".py",
   "mimetype": "text/x-python",
   "name": "python",
   "nbconvert_exporter": "python",
   "pygments_lexer": "ipython3",
   "version": "3.10.9"
  }
 },
 "nbformat": 4,
 "nbformat_minor": 4
}
