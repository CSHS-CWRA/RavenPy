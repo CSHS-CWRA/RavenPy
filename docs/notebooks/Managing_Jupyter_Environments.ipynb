{
 "cells": [
  {
   "cell_type": "markdown",
   "id": "0",
   "metadata": {},
   "source": [
    "# Managing Jupyter Environments\n",
    "\n",
    "This Notebook shows how to customize your Jupyter environment to install packages, reset the environment to defaults, and exporting the environment for reproducibility. We also provide some information on general guidelines on using the PAVICS-Hydro JupyterLab instance.\n",
    "\n",
    "## Installing packages\n",
    "It is possible to install packages to the environment if they are not currently installed. To do so, we should prioritize \"mamba\" which can be seen as a faster/more efficient conda, and use pip if mamba fails. We can install packages by issuing the command in a notebook cell. Here we will try importing the \"seaborn\" package, which is not installed by default on PAVICS."
   ]
  },
  {
   "cell_type": "code",
   "execution_count": null,
   "id": "1",
   "metadata": {},
   "outputs": [],
   "source": [
    "# Attempt to install seaborn. This will fail when run for the first time!\n",
    "\n",
    "# UNCOMMENT THE FOLLOWING LINE TO TEST THE EXISTENCE OF THE SEABORN PACKAGE. It is currently commented to ensure the automatic notebook checks do not fail for an obvious reason.\n",
    "# import seaborn"
   ]
  },
  {
   "cell_type": "markdown",
   "id": "2",
   "metadata": {},
   "source": [
    "This has failed because the package is not currently installed. Let's install it using mamba. The same command can be used with pip, simply replace \"mamba\" with \"pip\"."
   ]
  },
  {
   "cell_type": "code",
   "execution_count": null,
   "id": "3",
   "metadata": {},
   "outputs": [],
   "source": [
    "# Install using mamba, and provide the \"--yes\" option to pre-confirm installation\n",
    "!mamba install seaborn --yes\n",
    "\n",
    "# This will take a few seconds to download, install and confirm installation."
   ]
  },
  {
   "cell_type": "markdown",
   "id": "4",
   "metadata": {},
   "source": [
    "We can now import the newly installed package:"
   ]
  },
  {
   "cell_type": "code",
   "execution_count": null,
   "id": "5",
   "metadata": {},
   "outputs": [],
   "source": [
    "# This will now work.\n",
    "import seaborn"
   ]
  },
  {
   "cell_type": "markdown",
   "id": "6",
   "metadata": {},
   "source": [
    "## Resetting the environment\n",
    "If a package is installed that causes conflicts or causes code to break, it is possible to reset the environment by closing the server and respawning a new one, that will have the default packages installed. To do so, simply go to:\n",
    "--> File\n",
    "        --> Hub Control Panel\n",
    "                             --> Stop my server.\n",
    "\n",
    "\n",
    "Doing so will kill the server, but it will nonetheless keep all of your files. Respawning the server will open a fresh default environment. You can test this now! When you try and re-run the notebook, the first cell will fail again because 'seaborn' will have not been installed yet on this server instance."
   ]
  },
  {
   "cell_type": "markdown",
   "id": "7",
   "metadata": {},
   "source": [
    "## Exporting your environment\n",
    "\n",
    "To export your environment to replicate it elsewhere (such as a local installation, or to make a backup in case of future updates), you need to export two elements:\n",
    " - The data\n",
    " - The installed packages\n",
    "\n",
    "The data can be exported using the explorer on the left. You can select the files you want to download directly, or you can select \"Download current folder as an archive\". This will allow you to keep a copy of your data on your personal computer. However, note that data stored on this server is not removed or purged. Users are encouraged to use storage on an as-needed basis and to remove data that is not required to free-up resources for other users. PAVICS developers will contact users that use unreasonable amounts of storage space in order to find an alternative solution. The same reasoning also applies to computing power. Users can run multiple kernels/notebooks in parallel, but users are encouraged to use resources on an as-needed basis, with power users potentially being contacted to find alternative solutions.\n",
    "\n",
    "The environment can be exported using the following commands:\n",
    "\n",
    "**Export it to text in this Notebook:**\n",
    "\n",
    "```shell\n",
    "conda env export\n",
    "```\n",
    "\n",
    "### Other methods to export environments\n",
    "You can also export the environment to files, using these commands:\n",
    "\n",
    "**Export it to file with explicit packages and channels:**\n",
    "\n",
    "```shell\n",
    "conda list --explicit>ENV.txt\n",
    "```\n",
    "**Export it cross-platform:**\n",
    "\n",
    "```shell\n",
    "conda env export --from-history>ENV.yml\n",
    "```\n"
   ]
  }
 ],
 "metadata": {
  "language_info": {
   "codemirror_mode": {
    "name": "ipython",
    "version": 3
   },
   "file_extension": ".py",
   "mimetype": "text/x-python",
   "name": "python",
   "nbconvert_exporter": "python",
   "pygments_lexer": "ipython3",
   "version": "3.8.16"
  }
 },
 "nbformat": 4,
 "nbformat_minor": 5
}
