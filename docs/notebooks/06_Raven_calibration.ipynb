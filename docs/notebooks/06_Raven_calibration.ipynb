{
 "cells": [
  {
   "cell_type": "markdown",
   "id": "4a5f03fb",
   "metadata": {},
   "source": [
    "# 06 - Raven calibration"
   ]
  },
  {
   "cell_type": "markdown",
   "id": "d1ce69fb",
   "metadata": {},
   "source": [
    "## Calibration of a Raven model\n",
    "\n",
    "In this notebook, we show how to calibrate a Raven model using the GR4J-CN predefined structure. The users can refer to the documentation for the parameterization of other hydrological model structures.\n",
    "\n",
    "Let's start by importing the packages that will do the work.\n",
    "\n",
    "- ravenpy.models.GR4JCN: The Raven GR4JCN model Python wrapper we used in the 2 previous notebooks\n",
    "- ravenpy.models.GR4JCN_OST: The Raven GR4JCN model OSTRICH optimization python wrapper. It basically allows us to easily calibrate a Raven model.\n",
    "\n",
    "Depending on your model choice (HMETS, HBVEC, etc.), simply add \"\\_OST\" to the end to get the OSTRICH wrapper. "
   ]
  },
  {
   "cell_type": "code",
   "execution_count": 1,
   "id": "565a7b6c",
   "metadata": {},
   "outputs": [],
   "source": [
    "import tempfile\n",
    "import datetime as dt\n",
    "import spotpy\n",
    "\n",
    "from ravenpy.new_config import commands as rc\n",
    "from ravenpy.new_config.emulators import GR4JCN\n",
    "\n",
    "from ravenpy.utilities.new_config.calibration import SpotSetup"
   ]
  },
  {
   "cell_type": "markdown",
   "id": "cbfe7818",
   "metadata": {},
   "source": [
    "## Preparing the model to be calibrated on a given watershed\n",
    "Our test watershed from the last notebook is selected for this test. It can be replaced with any desired watershed."
   ]
  },
  {
   "cell_type": "code",
   "execution_count": 2,
   "id": "bf6a2500",
   "metadata": {},
   "outputs": [
    {
     "name": "stdout",
     "output_type": "stream",
     "text": [
      "C:\\Users\\PC\\.raven_testing_data\\master\\raven-gr4j-cemaneige\\Salmon-River-Near-Prince-George_meteo_daily.nc\n"
     ]
    }
   ],
   "source": [
    "from ravenpy.utilities.testdata import get_file\n",
    "\n",
    "# We get the netCDF for testing on a server. You can replace the getfile method by a string containing the path to your own netCDF\n",
    "nc_files = get_file(\n",
    "    \"raven-gr4j-cemaneige/Salmon-River-Near-Prince-George_meteo_daily.nc\"\n",
    ")\n",
    "\n",
    "#The path were we saved the results\n",
    "tempdir = tempfile.mkdtemp()\n",
    "\n",
    "# Display the datasets that we will be using\n",
    "print(nc_files)"
   ]
  },
  {
   "cell_type": "markdown",
   "id": "e5611922",
   "metadata": {},
   "source": [
    "The process is very similar to setting up a hydrological model. We first need to create the model with its parameters. "
   ]
  },
  {
   "cell_type": "code",
   "execution_count": 3,
   "id": "2105f6ea",
   "metadata": {},
   "outputs": [
    {
     "name": "stderr",
     "output_type": "stream",
     "text": [
      "WARNING: registry._helper_single_adder(): Redefining 'year' (<class 'pint.delegates.txt_defparser.plain.UnitDefinition'>)\n",
      "WARNING: registry._helper_single_adder(): Redefining 'yr' (<class 'pint.delegates.txt_defparser.plain.UnitDefinition'>)\n",
      "WARNING: registry._helper_single_adder(): Redefining 'C' (<class 'pint.delegates.txt_defparser.plain.UnitDefinition'>)\n",
      "WARNING: registry._helper_single_adder(): Redefining 'd' (<class 'pint.delegates.txt_defparser.plain.UnitDefinition'>)\n",
      "WARNING: registry._helper_single_adder(): Redefining 'h' (<class 'pint.delegates.txt_defparser.plain.UnitDefinition'>)\n",
      "WARNING: registry._helper_single_adder(): Redefining 'degrees_north' (<class 'pint.delegates.txt_defparser.plain.UnitDefinition'>)\n",
      "WARNING: registry._helper_single_adder(): Redefining 'degrees_east' (<class 'pint.delegates.txt_defparser.plain.UnitDefinition'>)\n",
      "WARNING: registry._helper_single_adder(): Redefining '[speed]' (<class 'pint.delegates.txt_defparser.plain.DerivedDimensionDefinition'>)\n"
     ]
    }
   ],
   "source": [
    "# Here, we need to give the name of your different dataset in order to match with Raven models.\n",
    "alt_names = {\n",
    "            \"RAINFALL\": \"rain\",\n",
    "            \"TEMP_MIN\": \"tmin\",\n",
    "            \"TEMP_MAX\": \"tmax\",\n",
    "            \"PET\": \"pet\",\n",
    "            \"HYDROGRAPH\": \"qobs\",\n",
    "            \"SNOWFALL\": \"snow\",\n",
    "}\n",
    "\n",
    "# The HRU of your watershed\n",
    "hru = dict(\n",
    "    area=4250.6, elevation=843.0, latitude=54.4848, longitude=-123.3659\n",
    ")\n",
    "\n",
    "# You can decide the evaluation metrics that will be used to calibrate the parameters of your model. You need atleast \n",
    "# 1 evaluation metric, but you can do any combinaison of evaluations from this list : \n",
    "#\n",
    "# NASH_SUTCLIFFE,\n",
    "# LOG_NASH, \n",
    "# RMSE, \n",
    "# PCT_BIAS, \n",
    "# ABSERR, \n",
    "# ABSMAX, \n",
    "# PDIFF,\n",
    "# TMVOL,\n",
    "# RCOEFF,\n",
    "# NSC,\n",
    "# KLING_GUPTA\n",
    "eval_metrics = (\"NASH_SUTCLIFFE\",)\n",
    "\n",
    "\n",
    "# We need to create the desired model with its parameters the same way as in the Notebook 04_Emulating_hydrological_models.\n",
    "model = GR4JCN(\n",
    "    ObservationData=rc.ObservationData.from_nc(nc_files, alt_names=\"qobs\"),\n",
    "    Gauge=rc.Gauge.from_nc(\n",
    "        nc_files,\n",
    "        alt_names=alt_names,\n",
    "        extra={1: {\"elevation\": hru[\"elevation\"]}},\n",
    "    ),\n",
    "    HRUs=[hru],\n",
    "    StartDate=dt.datetime(1990, 1, 1),\n",
    "    EndDate=dt.datetime(1999, 12, 31),\n",
    "    RunName=\"test\", \n",
    "    EvaluationMetrics=eval_metrics\n",
    ")"
   ]
  },
  {
   "cell_type": "markdown",
   "id": "40c8371c",
   "metadata": {},
   "source": [
    "## Spotpy Calibration\n",
    "\n",
    "Once you've created your model, you need to create a SpotSetup, which will be used to calibrate your model."
   ]
  },
  {
   "cell_type": "code",
   "execution_count": 4,
   "id": "0c089720",
   "metadata": {},
   "outputs": [
    {
     "name": "stderr",
     "output_type": "stream",
     "text": [
      "c:\\users\\pc\\documents\\github\\ravenpy\\ravenpy\\utilities\\new_config\\calibration.py:35: UserWarning: Add the `SuppressOutput` command to the configuration to reduce IO.\n",
      "  warnings.warn(\n"
     ]
    }
   ],
   "source": [
    "# In order to calibrate your model, you need to give the lower and higher bounds of the model. In this case, we are passing\n",
    "# the boundaries for a GR4JCN, but it's important to change them, if you are using another model. Note that the list of these\n",
    "# boundaries for each model is at the end of this notebook.\n",
    "low_params = (0.01, -15.0, 10.0, 0.0, 1.0, 0.0)\n",
    "high_params = (2.5, 10.0, 700.0, 7.0, 30.0, 1.0)\n",
    "\n",
    "\n",
    "spot_setup = SpotSetup(\n",
    "    config=model,\n",
    "    low=low_params,\n",
    "    high=high_params,\n",
    "    path=tempdir,\n",
    ")"
   ]
  },
  {
   "cell_type": "markdown",
   "id": "2b6351b2",
   "metadata": {},
   "source": [
    "And then, you need to create a sampler for the SpotSetup which will optimized the paramaters of your model. You can see that we are using the DDS method to optimize the paramaters. If you want to change it to another optimisator, please refer yourself to the Spotpy documentation, here : https://spotpy.readthedocs.io/\n",
    "\n",
    "Finally, we run the sampler by the amount of desired repetitions."
   ]
  },
  {
   "cell_type": "code",
   "execution_count": 5,
   "id": "77d168a1",
   "metadata": {},
   "outputs": [
    {
     "name": "stdout",
     "output_type": "stream",
     "text": [
      "Initializing the  Dynamically Dimensioned Search (DDS) algorithm  with  10  repetitions\n",
      "The objective function will be maximized\n",
      "Starting the DDS algotrithm with 10 repetitions...\n",
      "Finding best starting point for trial 1 using 5 random samples.\n",
      "0\n",
      "Initialize database...\n",
      "['csv', 'hdf5', 'ram', 'sql', 'custom', 'noData']\n"
     ]
    },
    {
     "name": "stderr",
     "output_type": "stream",
     "text": [
      "c:\\users\\pc\\documents\\github\\ravenpy\\ravenpy\\ravenpy.py:287: RavenWarning: Gauge:Initialize: both snowfall and rainfall data are provided at a gauge, but :RainSnowFraction method is something other than RAINSNOW_DATA. Snow fraction will be recalculated.\n",
      "  warn(msg, category=RavenWarning)\n",
      "c:\\users\\pc\\documents\\github\\ravenpy\\ravenpy\\ravenpy.py:287: RavenWarning: PET data supplied at gauge Gauge_1 but will not be used due to choice of forcing generation algorithm\n",
      "  warn(msg, category=RavenWarning)\n",
      "c:\\users\\pc\\documents\\github\\ravenpy\\ravenpy\\ravenpy.py:287: RavenWarning: The required parameter RAIN_ICEPT_PCT for vegetation class VEG_ALL was autogenerated with value 0.120000\n",
      "  warn(msg, category=RavenWarning)\n",
      "c:\\users\\pc\\documents\\github\\ravenpy\\ravenpy\\ravenpy.py:287: RavenWarning: The required parameter SNOW_ICEPT_PCT for vegetation class VEG_ALL was autogenerated with value 0.100000\n",
      "  warn(msg, category=RavenWarning)\n",
      "c:\\users\\pc\\documents\\github\\ravenpy\\ravenpy\\ravenpy.py:287: RavenWarning: The required parameter RAIN_ICEPT_PCT for vegetation class VEG_WATER was autogenerated with value 0.120000\n",
      "  warn(msg, category=RavenWarning)\n",
      "c:\\users\\pc\\documents\\github\\ravenpy\\ravenpy\\ravenpy.py:287: RavenWarning: The required parameter SNOW_ICEPT_PCT for vegetation class VEG_WATER was autogenerated with value 0.100000\n",
      "  warn(msg, category=RavenWarning)\n",
      "c:\\users\\pc\\documents\\github\\ravenpy\\ravenpy\\ravenpy.py:287: RavenWarning: Because no processes with CANOPY_SNOW variable have been specified, all snow interception will be directly moved to the atmosphere as if it had sublimated.\n",
      "  warn(msg, category=RavenWarning)\n",
      "c:\\users\\pc\\documents\\github\\ravenpy\\ravenpy\\ravenpy.py:287: RavenWarning: Because no processes with CANOPY variable have been specified, all rain interception will be directly moved to the atmosphere as if it had evaporated.\n",
      "  warn(msg, category=RavenWarning)\n"
     ]
    },
    {
     "name": "stdout",
     "output_type": "stream",
     "text": [
      "0\n",
      "2 of 10, maximal objective function=0.140197, time remaining: 00:00:05\n",
      "0\n",
      "0\n",
      "4 of 10, maximal objective function=0.140197, time remaining: 00:00:04\n",
      "0\n",
      "0\n",
      "6 of 10, maximal objective function=0.198817, time remaining: 00:00:03\n",
      "0\n",
      "0\n",
      "8 of 10, maximal objective function=0.198817, time remaining: 00:00:01\n",
      "0\n",
      "0\n",
      "10 of 10, maximal objective function=0.203254, time remaining: 23:59:59\n",
      "Best solution found has obj function value of 0.203254 at 5\n",
      "\n",
      "\n",
      "\n",
      "*** Final SPOTPY summary ***\n",
      "Total Duration: 10.15 seconds\n",
      "Total Repetitions: 10\n",
      "Maximal objective value: 0.203254\n",
      "Corresponding parameter setting:\n",
      "GR4J_X1: 2.17939\n",
      "GR4J_X2: 1.91164\n",
      "GR4J_X3: 543.148\n",
      "GR4J_X4: 4.90395\n",
      "CEMANEIGE_X1: 1.26336\n",
      "CEMANEIGE_X2: 0.7194\n",
      "******************************\n",
      "\n"
     ]
    },
    {
     "data": {
      "text/plain": [
       "[{'sbest': spotpy.parameter.ParameterSet(),\n",
       "  'trial_initial': [2.1392328783394814,\n",
       "   -0.09781184810984023,\n",
       "   603.0138178282762,\n",
       "   3.944080569271965,\n",
       "   10.434355513804867,\n",
       "   0.4774219467260803],\n",
       "  'objfunc_val': 0.203254}]"
      ]
     },
     "execution_count": 5,
     "metadata": {},
     "output_type": "execute_result"
    }
   ],
   "source": [
    "iterations = 10 # This value should be over 500 for real optimisation. This will take a LONG period of time so be sure of all\n",
    "                 # the previous setup before executing with a high number.\n",
    "\n",
    "sampler = spotpy.algorithms.dds(\n",
    "    spot_setup, dbname=\"RAVEN_model_run\", dbformat=\"ram\", save_sim=False\n",
    ")\n",
    "\n",
    "sampler.sample(iterations, trials=1)"
   ]
  },
  {
   "cell_type": "markdown",
   "id": "f789c674",
   "metadata": {},
   "source": [
    "## Analysing the calibration results\n",
    "The best parameters as well as the objective functions can be analyzed."
   ]
  },
  {
   "cell_type": "code",
   "execution_count": 6,
   "id": "ae1fc2c4",
   "metadata": {},
   "outputs": [
    {
     "name": "stdout",
     "output_type": "stream",
     "text": [
      "Nash-Sutcliffe value is: [0.203254]\n",
      "Best parameter set:\n",
      "GR4J_X1=2.179390337556251, GR4J_X2=1.9116435117514765, GR4J_X3=543.1476198470175, GR4J_X4=4.903950072379301, CEMANEIGE_X1=1.263357504341629, CEMANEIGE_X2=0.7194001969526824\n"
     ]
    },
    {
     "data": {
      "text/plain": [
       "array([(2.17939034, 1.91164351, 543.14761985, 4.90395007, 1.2633575, 0.7194002)],\n",
       "      dtype={'names': ['parGR4J_X1', 'parGR4J_X2', 'parGR4J_X3', 'parGR4J_X4', 'parCEMANEIGE_X1', 'parCEMANEIGE_X2'], 'formats': ['<f8', '<f8', '<f8', '<f8', '<f8', '<f8'], 'offsets': [8, 16, 24, 32, 40, 48], 'itemsize': 64})"
      ]
     },
     "execution_count": 6,
     "metadata": {},
     "output_type": "execute_result"
    }
   ],
   "source": [
    "# Get the model diagnostics\n",
    "diag = spot_setup.diagnostics\n",
    "\n",
    "# Print the NSE and the parameter set in 2 different ways:\n",
    "print(\"Nash-Sutcliffe value is: \" + str(diag[\"DIAG_NASH_SUTCLIFFE\"]))\n",
    "\n",
    "# Get all the values of each iteration\n",
    "results=sampler.getdata() \n",
    "\n",
    "#\n",
    "spotpy.analyser.get_best_parameterset(results) "
   ]
  },
  {
   "cell_type": "markdown",
   "id": "d22ea8c6-173d-44e9-82c2-cf87a0227180",
   "metadata": {},
   "source": [
    "## Next steps\n",
    "\n",
    "In the next notebooks, we will apply the model to specific use-cases, including making and using hotstart files for forecasting, performing hindcasting and forecasting, applying data assimilation and evaluating the impacts of climate change on the hydrology of a watershed. "
   ]
  },
  {
   "cell_type": "markdown",
   "id": "c4655f07",
   "metadata": {},
   "source": [
    "## List of Model-Boundaries\n",
    "\n",
    "GR4JCN : \n",
    "\n",
    "<ul>\n",
    "  <li>low  =  (0.01, -15.0, 10.0, 0.0, 1.0, 0.0),</li>\n",
    "  <li>high =  (2.5, 10.0, 700.0, 7.0, 30.0, 1.0)</li>\n",
    "</ul>\n",
    "\n",
    "         \n",
    "         \n",
    "         \n",
    "HMETS  : \n",
    "\n",
    "<ul>\n",
    "  <li>low  =  (0.3, 0.01, 0.5, 0.15, 0.0, 0.0, -2.0, 0.01, 0.0, 0.01, 0.005, \n",
    "               -5.0, 0.0, 0.0, 0.0, 0.0, 0.00001, 0.0, 0.00001, 0.0, 0.0),</li>\n",
    "  <li>high =  (20.0, 5.0, 13.0, 1.5, 20.0, 20.0, 3.0, 0.2, 0.1, 0.3, 0.1, \n",
    "               2.0, 5.0, 1.0, 3.0, 1.0, 0.02, 0.1, 0.01, 0.5, 2.0)</li>\n",
    "</ul>\n",
    "                 \n",
    "                 \n",
    "Mohyse : \n",
    "\n",
    "<ul>\n",
    "  <li>low  =  (0.01, 0.01, 0.01, -5.00, 0.01, 0.01, 0.01, 0.01, 0.01, 0.01),</li>\n",
    "  <li>high =  (20.0, 1.0, 20.0, 5.0, 0.5, 1.0, 1.0, 1.0, 15.0, 15.0)</li>\n",
    "</ul>\n",
    "\n",
    "         \n",
    "HBVEC  : \n",
    "\n",
    "<ul>\n",
    "  <li>low  =  (-3.0, 0.0, 0.0, 0.0, 0.0, 0.3, 0.0, 0.0, 0.01, 0.05, 0.01, \n",
    "               0.0, 0.0, 0.0, 0.0, 0.0, 0.01, 0.0, 0.05, 0.8, 0.8),</li>\n",
    "  <li>high =  (3.0, 8.0, 8.0, 0.1, 1.0, 1.0, 7.0, 100.0, 1.0, 0.1, 6.0, \n",
    "               5.0, 5.0, 0.2, 1.0, 30.0, 3.0, 2.0, 1.0, 1.5, 1.5)</li>\n",
    "</ul>\n",
    "                \n",
    "                 \n",
    "CanadianShield :\n",
    "\n",
    "<ul>\n",
    "  <li>low  =  (0.01, 0.01, 0.01, 0.0, 0.0, 0.05, 0.0, -5.0, -5.0, 0.5, 0.5, \n",
    "               0.0, 0.0, 0.0, 0.0, 0.0, 0.01, 0.005, -3.0, 0.5, 5.0, 0.0, \n",
    "               0.0, -1.0, 0.0, 0.0, 0.0, 0.0, 0.0, 0.0, 0.0, 0.8, 0.8, 0.0),</li>\n",
    "  <li>high =  (0.5, 2.0, 3.0, 3.0, 0.05, 0.45, 7.0, -1.0, -1.0, 2.0, 2.0,\n",
    "            100.0, 100.0, 100.0, 0.4, 0.1, 0.3, 0.1, 3.0, 4.0, 500.0, 5.0,\n",
    "            5.0, 1.0, 8.0, 20.0, 1.5, 0.2, 0.2, 10.0, 10.0, 1.2, 1.2, 1.0)</li>\n",
    "</ul>\n",
    "\n",
    "HYPR :\n",
    "\n",
    "<ul>\n",
    "  <li>low  =  (-1.0, -3.0, 0.0, 0.3, -1.3, -2.0, 0.0, 0.1, 0.4, 0.0, 0.0,\n",
    "            0.0, 0.0, 0.0, 0.01, 0.0, 0.0, 1.5, 0.0, 0.0, 0.8),</li>\n",
    "  <li>high =  (1.0, 3.0, 0.8, 1.0, 0.3, 0.0, 30.0, 0.8, 2.0, 100.0, \n",
    "            0.5, 5.0, 1.0, 1000.0, 6.0, 7.0, 8.0, 3.0, 5.0, 5.0, 1.2)</li>\n",
    "</ul>\n",
    "\n",
    "SACSMA : \n",
    "\n",
    "<ul>\n",
    "  <li>low  =  (-3.0, -1.52287874, -0.69897, 0.025, 0.01, 0.075, 0.015, 0.04, \n",
    "              0.0, 0.0, 0.0, 0.0, 0.0, 0.0, 0.0, 0.0, 0.0, 0.3, 0.01, 0.8, 0.8),</li>\n",
    "  <li>high =  (-1.82390874, -0.69897, -0.30102999, 0.125, 0.075, 0.3, 0.3, 0.6, \n",
    "              0.5, 3.0, 80.0, 0.8, 0.05, 0.2, 0.1, 0.4, 8.0, 20.0, 5.0, 1.2, 1.2)</li>\n",
    "</ul>\n",
    "\n",
    "Blended : \n",
    "\n",
    "<ul>\n",
    "  <li>low  =  (0.0, 0.1, 0.5, -5.0, 0.0, 0.5, 5.0, 0.0, 0.0, 0.0, -5.0,\n",
    "            0.5, 0.0, 0.01, 0.005, -5.0, 0.0, 0.0, 0.0, 0.3, 0.01, 0.5,\n",
    "            0.15, 1.5, 0.0, -1.0, 0.01, 0.00001, 0.0, 0.0, -3.0, 0.5,\n",
    "            0.8, 0.8, 0.0, 0.0, 0.0, 0.0, 0.0, 0.0, 0.0, 0.0, 0.0),</li>\n",
    "  <li>high =  (1.0, 3.0, 3.0, -1.0, 100.0, 2.0, 10.0, 3.0,\n",
    "            0.05, 0.45, -2.0, 2.0, 0.1, 0.3, 0.1, 2.0, 1.0,\n",
    "            5.0, 0.4, 20.0, 5.0, 13.0, 1.5, 3.0, 5.0, 1.0,\n",
    "            0.2, 0.02, 0.5, 2.0, 3.0, 4.0, 1.2, 1.2, 0.02,\n",
    "            1.0, 1.0, 1.0, 1.0, 1.0, 1.0, 1.0, 1.0)</li>\n",
    "</ul>\n"
   ]
  }
 ],
 "metadata": {
  "kernelspec": {
   "display_name": "Python 3 (ipykernel)",
   "language": "python",
   "name": "python3"
  },
  "language_info": {
   "codemirror_mode": {
    "name": "ipython",
    "version": 3
   },
   "file_extension": ".py",
   "mimetype": "text/x-python",
   "name": "python",
   "nbconvert_exporter": "python",
   "pygments_lexer": "ipython3",
   "version": "3.10.9"
  }
 },
 "nbformat": 4,
 "nbformat_minor": 5
}
