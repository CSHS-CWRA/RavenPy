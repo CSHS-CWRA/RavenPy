{
 "cells": [
  {
   "cell_type": "markdown",
   "metadata": {},
   "source": [
    "# 07 - Making and using hostart files"
   ]
  },
  {
   "cell_type": "markdown",
   "metadata": {},
   "source": [
    "## Using PAVICS-Hydro to create a hotstart file to resume a simulation from given hydrological conditions\n",
    "\n",
    "Here we run a hydrological model with `Raven` over a long period. Then we run the model on half of the period, save the final states, and then run the second half in an independent run but using the model states at the end of the first half. This should provide two (2) hydrographs that are exactly equal."
   ]
  },
  {
   "cell_type": "code",
   "execution_count": null,
   "metadata": {},
   "outputs": [],
   "source": [
    "import datetime as dt\n",
    "import xarray as xr"
   ]
  },
  {
   "cell_type": "markdown",
   "metadata": {},
   "source": [
    "At this point the following block of code should be quite familiar! If not, please go back to notebook \"04 - Emulating hydrological models\" to understand what is happening."
   ]
  },
  {
   "cell_type": "code",
   "execution_count": null,
   "metadata": {},
   "outputs": [],
   "source": [
    "# Import the GR4JCN model and write the configured files. Make sure the end date is before the end of the\n",
    "# hydrometeorological data NetCDF file.\n",
    "from ravenpy.new_config.emulators import GR4JCN\n",
    "from ravenpy.new_config import commands as rc\n",
    "from ravenpy import Emulator\n",
    "from ravenpy.ravenpy import run\n",
    "\n",
    "# Start and end date\n",
    "start_date = dt.datetime(1985, 1, 1)\n",
    "end_date = dt.datetime(1990, 1, 1)\n",
    "\n",
    "# Define HRU\n",
    "hru = {}\n",
    "hru = dict(\n",
    "    area=4250.6,\n",
    "    elevation=843.0,\n",
    "    latitude=54.4848,\n",
    "    longitude=-123.3659,\n",
    "    hru_type=\"land\",\n",
    ")\n",
    "\n",
    "# Set alt_names\n",
    "alt_names = {\n",
    "    \"TEMP_MIN\": \"tmin\",\n",
    "    \"TEMP_MAX\": \"tmax\",\n",
    "    \"PRECIP\": \"pr\",\n",
    "}\n",
    "\n",
    "# prepare data_type\n",
    "data_type = [\"TEMP_MAX\", \"TEMP_MIN\", \"PRECIP\"]\n",
    "\n",
    "#    Now that we have the single file containing tmax, tmin and pr, we can setup a single gauge that contains all three.\n",
    "m = GR4JCN(\n",
    "    params=[0.529, -3.396, 407.29, 1.072, 16.9, 0.947],\n",
    "    Gauge=rc.Gauge.from_nc(\n",
    "        \"ERA5_weather_data.nc\",\n",
    "        data_type=data_type,  \n",
    "        alt_names=alt_names,\n",
    "        extra={\n",
    "            1: {\n",
    "                \"elevation\": hru[\"elevation\"],\n",
    "                \"latitude\": hru[\"latitude\"],\n",
    "                \"longitude\": hru[\"longitude\"],\n",
    "            }\n",
    "        },\n",
    "    ),\n",
    "    HRUs=[hru],\n",
    "    StartDate=start_date,\n",
    "    EndDate=end_date,\n",
    "    RunName=\"test_hotstart\",\n",
    "    GlobalParameter={\"AVG_ANNUAL_RUNOFF\": 208.480},\n",
    ")\n",
    "\n",
    "# Value for server, to change\n",
    "# m = write_rv(workdir=\"/notebook_dir/writable-workspace/run_results_NB4\", overwrite = True)\n",
    "m.write_rv(workdir=\"/home/ets/src/run_results_NB7\", overwrite=True)\n",
    "\n",
    "# Prepare the emulator by writing files on disk\n",
    "e = Emulator(config=m, workdir=\"/home/ets/src/run_results_NB7\")\n",
    "\n",
    "# Run the model and get the outputs.\n",
    "outputs = e.run()"
   ]
  },
  {
   "cell_type": "markdown",
   "metadata": {},
   "source": [
    "Now that we have run the model, we can extract the hydrograph:"
   ]
  },
  {
   "cell_type": "code",
   "execution_count": null,
   "metadata": {},
   "outputs": [],
   "source": [
    "first_hydrograph = outputs.hydrograph.q_sim"
   ]
  },
  {
   "cell_type": "markdown",
   "metadata": {},
   "source": [
    "### Now let's see if we can replicate the hydrograph using a hotstart file. \n",
    "First, run the model without a hotstart file, same as before, but only for one year:\n"
   ]
  },
  {
   "cell_type": "code",
   "execution_count": null,
   "metadata": {},
   "outputs": [],
   "source": [
    "# Run the model, this time only with the first 3 years (1985-1988).\n",
    "start_date = dt.datetime(1985, 1, 1)\n",
    "end_date = dt.datetime(1988, 1, 1)\n",
    "\n",
    "# Run the model\n",
    "m = GR4JCN(\n",
    "    params=[0.529, -3.396, 407.29, 1.072, 16.9, 0.947],\n",
    "    Gauge=rc.Gauge.from_nc(\n",
    "        \"ERA5_weather_data.nc\",\n",
    "        data_type=data_type,  \n",
    "        alt_names=alt_names,\n",
    "        extra={\n",
    "            1: {\n",
    "                \"elevation\": hru[\"elevation\"],\n",
    "                \"latitude\": hru[\"latitude\"],\n",
    "                \"longitude\": hru[\"longitude\"],\n",
    "            }\n",
    "        },\n",
    "    ),\n",
    "    HRUs=[hru],\n",
    "    StartDate=start_date,\n",
    "    EndDate=end_date,\n",
    "    RunName=\"test_hotstart_a\",\n",
    "    GlobalParameter={\"AVG_ANNUAL_RUNOFF\": 208.480},\n",
    ")\n",
    "\n",
    "m.write_rv(workdir=\"/home/ets/src/run_results_NB7_a\", overwrite=True)\n",
    "\n",
    "# Prepare the emulator by writing files on disk\n",
    "e = Emulator(config=m, workdir=\"/home/ets/src/run_results_NB7_a\")\n",
    "\n",
    "# Run the model and get the outputs.\n",
    "outputs = e.run()\n",
    "\n",
    "\n",
    "# Extract the hydrograph for this first year.\n",
    "second_hydrograph_first_part = outputs.hydrograph.q_sim\n",
    "\n",
    "# We can also keep the path to the solution (final model states) for later:\n",
    "hotstart_states = outputs.files[\"solution\"]"
   ]
  },
  {
   "cell_type": "code",
   "execution_count": null,
   "metadata": {},
   "outputs": [],
   "source": [
    "outputs.files[\"solution\"]\n"
   ]
  },
  {
   "cell_type": "markdown",
   "metadata": {},
   "source": [
    "Now, let's run the model using the hotstart but for the final 2 years only (1988-1990). Notice that we have a new configuration variable called \"rvc\". This is where we can provide the path to the starting conditions!"
   ]
  },
  {
   "cell_type": "code",
   "execution_count": null,
   "metadata": {},
   "outputs": [],
   "source": [
    "start_date = dt.datetime(1988, 1, 1)\n",
    "end_date = dt.datetime(1990, 1, 1)\n",
    "\n",
    "# Run the model\n",
    "m = GR4JCN(\n",
    "    params=[0.529, -3.396, 407.29, 1.072, 16.9, 0.947],\n",
    "    Gauge=rc.Gauge.from_nc(\n",
    "        \"ERA5_weather_data.nc\",\n",
    "        data_type=data_type,  \n",
    "        alt_names=alt_names,\n",
    "        extra={\n",
    "            1: {\n",
    "                \"elevation\": hru[\"elevation\"],\n",
    "                \"latitude\": hru[\"latitude\"],\n",
    "                \"longitude\": hru[\"longitude\"],\n",
    "            }\n",
    "        },\n",
    "    ),\n",
    "    HRUs=[hru],\n",
    "    StartDate=start_date,\n",
    "    EndDate=end_date,\n",
    "    RunName=\"test_hotstart_b\",\n",
    "    GlobalParameter={\"AVG_ANNUAL_RUNOFF\": 208.480},\n",
    ")\n",
    "\n",
    "# Replace the default configuration of initial states with that of the final states of the previous run (hotstart)\n",
    "m.set_solution(outputs.files[\"solution\"])\n",
    "\n",
    "# Write the config files\n",
    "m.write_rv(workdir=\"/home/ets/src/run_results_NB7_b\", overwrite=True)\n",
    "\n",
    "# Prepare the emulator by writing files on disk\n",
    "e = Emulator(config=m, workdir=\"/home/ets/src/run_results_NB7_b\")\n",
    "\n",
    "# Run the model and get the outputs.\n",
    "outputs = e.run()\n",
    "\n",
    "# Extract the hydrograph for this first year.\n",
    "second_hydrograph_second_part = outputs.hydrograph.q_sim"
   ]
  },
  {
   "cell_type": "markdown",
   "metadata": {},
   "source": [
    "Now that we have calculated both hydrographs separately, let's concatenate them into a single array of 2-years duration."
   ]
  },
  {
   "cell_type": "code",
   "execution_count": null,
   "metadata": {},
   "outputs": [],
   "source": [
    "second_hydrograph_complete = xr.concat(\n",
    "    [second_hydrograph_first_part[0:-1], second_hydrograph_second_part], \"time\"\n",
    ")"
   ]
  },
  {
   "cell_type": "code",
   "execution_count": null,
   "metadata": {},
   "outputs": [],
   "source": [
    "first_hydrograph"
   ]
  },
  {
   "cell_type": "code",
   "execution_count": null,
   "metadata": {},
   "outputs": [],
   "source": [
    "second_hydrograph_first_part"
   ]
  },
  {
   "cell_type": "markdown",
   "metadata": {},
   "source": [
    "## Plotting both hydrographs\n",
    "Let's plot both hydrographs to see if they are the same:"
   ]
  },
  {
   "cell_type": "code",
   "execution_count": null,
   "metadata": {},
   "outputs": [],
   "source": [
    "second_hydrograph_second_part"
   ]
  },
  {
   "cell_type": "code",
   "execution_count": null,
   "metadata": {},
   "outputs": [],
   "source": [
    "first_hydrograph.plot()\n",
    "second_hydrograph_complete.plot()\n"
   ]
  },
  {
   "cell_type": "markdown",
   "metadata": {},
   "source": [
    "And now if we look at the difference between both hydrographs:"
   ]
  },
  {
   "cell_type": "code",
   "execution_count": null,
   "metadata": {},
   "outputs": [],
   "source": [
    "difference = first_hydrograph - second_hydrograph_complete\n",
    "difference.plot()"
   ]
  },
  {
   "cell_type": "markdown",
   "metadata": {},
   "source": [
    "We can see that differences are at machine precision levels, due to rounding in the hotstart file (note that the y-axis is 1e-6, which is essentially 0!). But the rest is perfect!\n",
    "\n",
    "Therefore, we can provide forecasting abilities by saving simulation final states and using those to initialize model states for the forecasting runs. This will be used in other notebooks such as notebook #12 on hindcasting.\n"
   ]
  },
  {
   "cell_type": "code",
   "execution_count": null,
   "metadata": {},
   "outputs": [],
   "source": []
  }
 ],
 "metadata": {
  "kernelspec": {
   "display_name": "Python 3 (ipykernel)",
   "language": "python",
   "name": "python3"
  },
  "language_info": {
   "codemirror_mode": {
    "name": "ipython",
    "version": 3
   },
   "file_extension": ".py",
   "mimetype": "text/x-python",
   "name": "python",
   "nbconvert_exporter": "python",
   "pygments_lexer": "ipython3",
   "version": "3.10.9"
  }
 },
 "nbformat": 4,
 "nbformat_minor": 4
}
