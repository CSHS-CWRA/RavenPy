{
 "cells": [
  {
   "cell_type": "markdown",
   "metadata": {},
   "source": [
    "# Hindcasting with CaSPAr-Archived ECCC forecasts\n",
    "\n",
    "This notebook shows how to perform a streamflow hindcast, using CaSPar archived weather forecasts. It generates the hindcasts and plots them.\n",
    "\n",
    "CaSPAr (Canadian Surface Prediction Archive) is an archive of historical ECCC forecasts developed by Juliane Mai at the University of Waterloo, Canada. More details on CaSPAr can be found here https://caspar-data.ca/.\n",
    "\n",
    "\n",
    "Mai, J., Kornelsen, K.C., Tolson, B.A., Fortin, V., Gasset, N., Bouhemhem, D., Schäfer, D., Leahy, M., Anctil, F. and Coulibaly, P., 2020. The Canadian Surface Prediction Archive (CaSPAr): A Platform to Enhance Environmental Modeling in Canada and Globally. Bulletin of the American Meteorological Society, 101(3), pp.E341-E356.\n"
   ]
  },
  {
   "cell_type": "code",
   "execution_count": null,
   "metadata": {},
   "outputs": [],
   "source": [
    "# This entire section is cookie-cutter template to import required packages and prepare the temporary writing space.\n",
    "import datetime as dt\n",
    "import json\n",
    "import tempfile\n",
    "from pathlib import Path\n",
    "\n",
    "import xarray as xr\n",
    "import xskillscore\n",
    "from clisops.core import average, subset\n",
    "from matplotlib import pyplot as plt\n",
    "\n",
    "from ravenpy import Emulator, RavenWarning\n",
    "from ravenpy.extractors.new_config.forecasts import get_CASPAR_dataset\n",
    "from ravenpy.new_config import commands as rc\n",
    "from ravenpy.new_config.emulators import GR4JCN\n",
    "from ravenpy.utilities.new_config import forecasting\n",
    "from ravenpy.utilities.testdata import get_file\n",
    "\n",
    "tmp = Path(tempfile.mkdtemp())"
   ]
  },
  {
   "cell_type": "markdown",
   "metadata": {},
   "source": [
    "## Run the model simulations\n",
    "\n",
    "Here we set model parameters somewhat arbitrarily, but you can set the parameters to the calibrated parameters as seen in the \"06_Raven_calibration\" notebook we previously encountered. We can then specify the start date for the hindcast ESP simulations and run the simulations.This means we need to choose the forecast (hindcast) date. Available data include May 2017 onwards."
   ]
  },
  {
   "cell_type": "code",
   "execution_count": null,
   "metadata": {
    "scrolled": false
   },
   "outputs": [],
   "source": [
    "# Date of the hindcast\n",
    "hdate = dt.datetime(2018, 6, 1)\n",
    "\n",
    "# Get the Forecast data from GEPS via CASPAR\n",
    "ts_hindcast, _ = get_CASPAR_dataset(\"GEPS\", hdate)\n",
    "\n",
    "# Subset the data for the region of interest and take the mean to get a single vector\n",
    "ts_subset = subset.subset_shape(ts_hindcast, \"salmon_river.geojson\").mean(\n",
    "    dim=(\"rlat\", \"rlon\")\n",
    ")\n",
    "ts_subset = ts_subset.resample(time=\"6H\").nearest(\n",
    "    tolerance=\"1H\"\n",
    ")  # To make the timesteps identical accross the entire duration"
   ]
  },
  {
   "cell_type": "code",
   "execution_count": null,
   "metadata": {},
   "outputs": [],
   "source": [
    "# See how many members we have available\n",
    "len(ts_subset.members)"
   ]
  },
  {
   "cell_type": "markdown",
   "metadata": {},
   "source": [
    "Now that we have the correct weather forecasts, we can setup the hydrological model for a warm-up run:"
   ]
  },
  {
   "cell_type": "code",
   "execution_count": null,
   "metadata": {},
   "outputs": [],
   "source": [
    "%%capture --no-display\n",
    "# Adding this to avoid spamming warning messages for overwriting files.\n",
    "\n",
    "# Prepare a RAVEN model run using historical data, GR4JCN in this case.\n",
    "# This is a dummy run to get initial states. In a real forecast situation,\n",
    "# this run would end on the day before the forecast, but process is the same.\n",
    "\n",
    "# Here we need a file of observation data to run a simulation to generate initial conditions for our forecast.\n",
    "ts = str(\n",
    "    get_file(\"raven-gr4j-cemaneige/Salmon-River-Near-Prince-George_meteo_daily.nc\")\n",
    ")\n",
    "\n",
    "# This is the model start date, on which the simulation will be launched for a certain duration\n",
    "# to setup the initial states. We will then save the final states as a launching point for the\n",
    "# forecasts.\n",
    "\n",
    "start_date = dt.datetime(2000, 1, 1)\n",
    "end_date = dt.datetime(2002, 6, 1)\n",
    "\n",
    "# Define HRU to build the hydrological model\n",
    "hru = {}\n",
    "hru = dict(\n",
    "    area=4250.6,\n",
    "    elevation=843.0,\n",
    "    latitude=54.4848,\n",
    "    longitude=-123.3659,\n",
    "    hru_type=\"land\",\n",
    ")\n",
    "\n",
    "# Set alternative names for netCDF variables\n",
    "alt_names = {\n",
    "    \"TEMP_MIN\": \"tmin\",\n",
    "    \"TEMP_MAX\": \"tmax\",\n",
    "    \"RAINFALL\": \"rain\",\n",
    "    \"SNOWFALL\": \"snow\",\n",
    "}\n",
    "\n",
    "# Data types to extract from netCDF\n",
    "data_type = [\"TEMP_MAX\", \"TEMP_MIN\", \"RAINFALL\", \"SNOWFALL\"]\n",
    "\n",
    "# Model configuration\n",
    "model_config_warmup = GR4JCN(\n",
    "    params=[0.529, -3.396, 407.29, 1.072, 16.9, 0.947],\n",
    "    Gauge=rc.Gauge.from_nc(\n",
    "        ts,\n",
    "        data_type=data_type,\n",
    "        alt_names=alt_names,\n",
    "        extra={\n",
    "            1: {\n",
    "                \"elevation\": hru[\n",
    "                    \"elevation\"\n",
    "                ],  # No need for lat/lon as they are included in the netcdf file already\n",
    "            }\n",
    "        },\n",
    "    ),\n",
    "    HRUs=[hru],\n",
    "    StartDate=start_date,\n",
    "    EndDate=end_date,\n",
    "    RunName=\"NB12_warmup_run\",\n",
    "    GlobalParameter={\"AVG_ANNUAL_RUNOFF\": 208.480},\n",
    ")\n",
    "\"\"\"\n",
    "# TODO: WE NEED THIS TO DECUMULATE PRECIP AND ADJUST SCALE.\n",
    "\n",
    "pr={  # This part is to scale the precipitation and temperature as well as align the UTC time zome differences\n",
    "    \"scale\": 1000.0,\n",
    "    \"offset\": 0.0,\n",
    "    \"time_shift\": -0.25,\n",
    "    \"deaccumulate\": True,\n",
    "},\n",
    "\"\"\"\n",
    "# Run the model and get the outputs.\n",
    "out1 = Emulator(config=model_config_warmup, workdir=\"/tmp/run_results_NB12_part_1\").run(\n",
    "    overwrite=True\n",
    ")\n",
    "\n",
    "\n",
    "# Extract the path to the final states file that will be used as the next initial states\n",
    "hotstart = out1.files[\"solution\"]"
   ]
  },
  {
   "cell_type": "markdown",
   "metadata": {},
   "source": [
    "We now have the initial states ready for the next step, which is to launch the forecasts in hindcasting mode:"
   ]
  },
  {
   "cell_type": "code",
   "execution_count": null,
   "metadata": {},
   "outputs": [],
   "source": [
    "%%capture --no-display\n",
    "\n",
    "# Configure and run a new model by setting the initial states (equal to the previous run's final states) and prepare\n",
    "# the configuration for the forecasts (including forecast start date, which should be equal to the final simulation\n",
    "# date + 1, as well as the forecast duration.)\n",
    "\n",
    "# Model configuration for forecasting, including correct start date and forecast duration\n",
    "model_config_fcst = GR4JCN(\n",
    "    params=[0.529, -3.396, 407.29, 1.072, 16.9, 0.947],\n",
    "    Gauge=rc.Gauge.from_nc(\n",
    "        ts,\n",
    "        data_type=data_type,\n",
    "        alt_names=alt_names,\n",
    "        extra={\n",
    "            1: {\n",
    "                \"elevation\": hru[\n",
    "                    \"elevation\"\n",
    "                ],  # No need for lat/lon as they are included in the netcdf file already\n",
    "            }\n",
    "        },\n",
    "    ),\n",
    "    HRUs=[hru],\n",
    "    StartDate=end_date + dt.timedelta(days=1),\n",
    "    Duration=10,\n",
    "    RunName=\"NB12_forecast_run\",\n",
    "    GlobalParameter={\"AVG_ANNUAL_RUNOFF\": 208.480},\n",
    ")\n",
    "\n",
    "# Update the initial states\n",
    "model_config_fcst = model_config_fcst.set_solution(hotstart)\n",
    "\n",
    "\n",
    "# We need to write the netcdf data as a file for Raven to be able to access it.\n",
    "ts_subset.to_netcdf(tmp / \"hindcast.nc\")\n",
    "\n",
    "hindcast = forecasting.hindcast_from_meteo_forecast(\n",
    "    model_config_fcst,\n",
    "    forecast=ts_subset,\n",
    "    path=\"/tmp/run_results_NB12_part_2\",\n",
    "    overwrite=True,\n",
    ")"
   ]
  },
  {
   "cell_type": "markdown",
   "metadata": {},
   "source": [
    "Explore the hindcast data:"
   ]
  },
  {
   "cell_type": "code",
   "execution_count": null,
   "metadata": {},
   "outputs": [],
   "source": [
    "hindcast.hydrograph"
   ]
  },
  {
   "cell_type": "code",
   "execution_count": null,
   "metadata": {},
   "outputs": [],
   "source": [
    "\"\"\"\n",
    "# KEEPING THIS TO HAVE A MEMORY OF TAS/PR scale/offset\n",
    "model(\n",
    "    ts=str(tmp / \"hindcast.nc\"),\n",
    "    nc_index=range(number_members),\n",
    "    start_date=hdate,\n",
    "    end_date=hdate + dt.timedelta(days=duration),\n",
    "    hrus=hrus,\n",
    "    params=(0.529, -3.396, 407.29, 1.072, 16.9, 0.947),\n",
    "    overwrite=True,\n",
    "    pr={  # This part is to scale the precipitation and temperature as well as align the UTC time zome differences\n",
    "        \"scale\": 1000.0,\n",
    "        \"offset\": 0.0,\n",
    "        \"time_shift\": -0.25,\n",
    "        \"deaccumulate\": True,\n",
    "    },\n",
    "    tas={\"time_shift\": -0.25},\n",
    ")\n",
    "\"\"\""
   ]
  },
  {
   "cell_type": "markdown",
   "metadata": {},
   "source": [
    "\n",
    "And, for visual representation of the forecasts:\n"
   ]
  },
  {
   "cell_type": "code",
   "execution_count": null,
   "metadata": {},
   "outputs": [],
   "source": [
    "import matplotlib.pyplot as plt\n",
    "\n",
    "# Simulate an observed streamflow timeseries: Here we take a member from the ensemble, but you should use your own\n",
    "# observed timeseries:\n",
    "qq = hindcast.hydrograph.q_sim[0, :, 0]\n",
    "\n",
    "# This is to be replaced with a call to the forecast graphing WPS as soon as merged.\n",
    "# model.q_sim.plot.line(\"b\", x=\"time\")\n",
    "hindcast.hydrograph.q_sim[:, :, 0].plot.line(\"b\", x=\"time\", add_legend=False)\n",
    "hindcast.hydrograph.q_sim[1, :, 0].plot.line(\"b\", x=\"time\", label=\"forecasts\")\n",
    "qq.plot.line(\"r\", x=\"time\", label=\"observations\")\n",
    "plt.legend(loc=\"lower left\")\n",
    "plt.show()"
   ]
  }
 ],
 "metadata": {
  "kernelspec": {
   "display_name": "Python 3 (ipykernel)",
   "language": "python",
   "name": "python3"
  },
  "language_info": {
   "codemirror_mode": {
    "name": "ipython",
    "version": 3
   },
   "file_extension": ".py",
   "mimetype": "text/x-python",
   "name": "python",
   "nbconvert_exporter": "python",
   "pygments_lexer": "ipython3",
   "version": "3.10.9"
  }
 },
 "nbformat": 4,
 "nbformat_minor": 4
}
