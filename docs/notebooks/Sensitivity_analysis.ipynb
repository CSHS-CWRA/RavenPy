{
 "cells": [
  {
   "cell_type": "markdown",
   "metadata": {},
   "source": [
    "# Performing a sensitivity analysis\n",
    "\n",
    "In this notebook, we perform a sensitivity analysis on GR4JCN to determine the importance of each parameter using the Sobol' sensitivity analysis method. The example shown herein is done using very few parameter samples, and as such, results will be poor and should not be interpreted as-is. However, it is possible to use this code locally using RavenPy to run a much larger sampling on a local computer. "
   ]
  },
  {
   "cell_type": "markdown",
   "metadata": {},
   "source": [
    "## Prepare data for GR4JCN\n",
    "\n",
    "We will use GR4JCN for this analysis. Since the sensitivity analysis acts on a model response to different inputs, we must find a metric that can be used to measure the impacts of parameters on the model response. In this case, we will use the Nash-Sutcliffe and Absolute Error metrics as responses. It could be any scalar value: mean flow, peak flow, lowest flow, flow volume, etc. But for this exercice we suppose that we want to know the impact of a paramter set on an objective function value. We therefore use a dataset that contains observed streamflow to compute the evaluation metrics.\n",
    "\n",
    "Let's now import the required packages, get the correct data and setup the model hru for physiographic information:"
   ]
  },
  {
   "cell_type": "code",
   "execution_count": 1,
   "metadata": {},
   "outputs": [],
   "source": [
    "# Import required packages:\n",
    "import datetime as dt\n",
    "import tempfile\n",
    "from pathlib import Path\n",
    "\n",
    "import numpy as np\n",
    "from SALib.analyze import sobol as sobol_analyzer\n",
    "from SALib.sample import sobol as sobol_sampler\n",
    "\n",
    "from ravenpy import OutputReader\n",
    "from ravenpy.config import commands as rc\n",
    "from ravenpy.config.emulators import GR4JCN\n",
    "from ravenpy.ravenpy import run\n",
    "from ravenpy.utilities.testdata import get_file\n",
    "\n",
    "# We get the netCDF from a server. You can replace the getfile method by a string containing the path to your own netCDF\n",
    "nc_file = get_file(\n",
    "    \"raven-gr4j-cemaneige/Salmon-River-Near-Prince-George_meteo_daily.nc\"\n",
    ")\n",
    "\n",
    "# Here, we need to give the name of your different dataset in order to match with Raven models.\n",
    "alt_names = {\n",
    "    \"RAINFALL\": \"rain\",\n",
    "    \"SNOWFALL\": \"snow\",\n",
    "    \"TEMP_MIN\": \"tmin\",\n",
    "    \"TEMP_MAX\": \"tmax\",\n",
    "    \"PET\": \"pet\",\n",
    "    \"HYDROGRAPH\": \"qobs\",\n",
    "}\n",
    "\n",
    "# The HRU of your watershed\n",
    "hru = dict(area=4250.6, elevation=843.0, latitude=54.4848, longitude=-123.3659)\n",
    "\n",
    "# The evaluation metrics. Multiple options are possible, as can be found in Tutorial Notebook 06. Here we use Nash-Sutcliffe and Absolute Error.\n",
    "eval_metrics = (\"NASH_SUTCLIFFE\", \"ABSERR\")\n",
    "\n",
    "# Data keywords for meteorological data stations\n",
    "data_kwds = {\n",
    "    \"ALL\": {\n",
    "        \"elevation\": hru[\n",
    "            \"elevation\"\n",
    "        ],  # extract the values directly from the \"hru\" we previously built\n",
    "        \"latitude\": hru[\"latitude\"],\n",
    "        \"longitude\": hru[\"longitude\"],\n",
    "    }\n",
    "}"
   ]
  },
  {
   "cell_type": "markdown",
   "metadata": {},
   "source": [
    "## Sensitivity analysis step 1: Define the Sobol problem to analyze\n",
    "\n",
    "Sobol sensitivity analysis requires three distinct steps:\n",
    "\n",
    "1- Sample parameter sets from the possible parameter space;\n",
    "\n",
    "2- Run the model and gather the model response for each of these parameter spaces;\n",
    "\n",
    "3- Analyze the change in model responses as a function of changes in parameter sets.\n",
    "\n",
    "Therefore, the first step is to sample the parameter space, as done below:"
   ]
  },
  {
   "cell_type": "code",
   "execution_count": 2,
   "metadata": {},
   "outputs": [
    {
     "name": "stdout",
     "output_type": "stream",
     "text": [
      "The number of parameter sets to evaluate is 56\n"
     ]
    }
   ],
   "source": [
    "# Define the model inputs:\n",
    "problem = {\n",
    "    \"num_vars\": 6,  # Number of variables\n",
    "    \"names\": [\n",
    "        \"x1\",\n",
    "        \"x2\",\n",
    "        \"x3\",\n",
    "        \"x4\",\n",
    "        \"CN1\",\n",
    "        \"CN2\",\n",
    "    ],  # Names of these variables, to make it easier to follow. Can be any string defined by the user\n",
    "    \"bounds\": [\n",
    "        [\n",
    "            0.01,\n",
    "            2.5,\n",
    "        ],  # We must provide lower and upper bounds for each parameter to sample. Must be adjusted for each model.\n",
    "        [-15.0, 10.0],\n",
    "        [10.0, 700.0],\n",
    "        [0.0, 7.0],\n",
    "        [1.0, 30.0],\n",
    "        [0.0, 1.0],\n",
    "    ],\n",
    "}\n",
    "\n",
    "# Generate samples. The number of parameter sets to generate will be N * (2D + 2), where N is defined below and D is the number of\n",
    "# model inputs (6 for GR4JCN).\n",
    "N = 4\n",
    "param_values = sobol_sampler.sample(problem, N)\n",
    "\n",
    "# Display the size of the param_values matrix. We will run the model with each set of parameters, i.e. one per row.\n",
    "print(\"The number of parameter sets to evaluate is \" + str(param_values.shape[0]))"
   ]
  },
  {
   "cell_type": "markdown",
   "metadata": {},
   "source": [
    "## Sensitivity analysis step 2: Run the model for each parameter set\n",
    "\n",
    "In this stage, we have our sampled parameter sets according to the Sobol / Saltelli sampling methods. We now need to run the GR4JCN model for each of these parameter sets and compute the objective function (model response) that we want. Here we ask the model to pre-compute two objective functions (NSE and MAE), so we will be able to perform the sensitivity analysis on both metrics while only running the model once for each parameter set.\n",
    "\n",
    "We use a simple loop to run the model here, but advanced users could parallelize this as it is an \"embarassingly parallelizable\" problem. "
   ]
  },
  {
   "cell_type": "code",
   "execution_count": 3,
   "metadata": {
    "tags": []
   },
   "outputs": [
    {
     "name": "stderr",
     "output_type": "stream",
     "text": [
      "/opt/conda/envs/birdy/lib/python3.9/site-packages/xclim/indices/fire/_cffwis.py:207: NumbaDeprecationWarning: \u001b[1mThe 'nopython' keyword argument was not supplied to the 'numba.jit' decorator. The implicit default value for this argument is currently False, but it will be changed to True in Numba 0.59.0. See https://numba.readthedocs.io/en/stable/reference/deprecation.html#deprecation-of-object-mode-fall-back-behaviour-when-using-jit for details.\u001b[0m\n",
      "  def _day_length(lat: int | float, mth: int):  # pragma: no cover\n",
      "/opt/conda/envs/birdy/lib/python3.9/site-packages/xclim/indices/fire/_cffwis.py:227: NumbaDeprecationWarning: \u001b[1mThe 'nopython' keyword argument was not supplied to the 'numba.jit' decorator. The implicit default value for this argument is currently False, but it will be changed to True in Numba 0.59.0. See https://numba.readthedocs.io/en/stable/reference/deprecation.html#deprecation-of-object-mode-fall-back-behaviour-when-using-jit for details.\u001b[0m\n",
      "  def _day_length_factor(lat: float, mth: int):  # pragma: no cover\n"
     ]
    },
    {
     "name": "stdout",
     "output_type": "stream",
     "text": [
      "1 out of 56 runs performed. Please wait.\n",
      "2 out of 56 runs performed. Please wait.\n",
      "3 out of 56 runs performed. Please wait.\n",
      "4 out of 56 runs performed. Please wait.\n",
      "5 out of 56 runs performed. Please wait.\n",
      "6 out of 56 runs performed. Please wait.\n",
      "7 out of 56 runs performed. Please wait.\n",
      "8 out of 56 runs performed. Please wait.\n",
      "9 out of 56 runs performed. Please wait.\n",
      "10 out of 56 runs performed. Please wait.\n",
      "11 out of 56 runs performed. Please wait.\n",
      "12 out of 56 runs performed. Please wait.\n",
      "13 out of 56 runs performed. Please wait.\n",
      "14 out of 56 runs performed. Please wait.\n",
      "15 out of 56 runs performed. Please wait.\n",
      "16 out of 56 runs performed. Please wait.\n",
      "17 out of 56 runs performed. Please wait.\n",
      "18 out of 56 runs performed. Please wait.\n",
      "19 out of 56 runs performed. Please wait.\n",
      "20 out of 56 runs performed. Please wait.\n",
      "21 out of 56 runs performed. Please wait.\n",
      "22 out of 56 runs performed. Please wait.\n",
      "23 out of 56 runs performed. Please wait.\n",
      "24 out of 56 runs performed. Please wait.\n",
      "25 out of 56 runs performed. Please wait.\n",
      "26 out of 56 runs performed. Please wait.\n",
      "27 out of 56 runs performed. Please wait.\n",
      "28 out of 56 runs performed. Please wait.\n",
      "29 out of 56 runs performed. Please wait.\n",
      "30 out of 56 runs performed. Please wait.\n",
      "31 out of 56 runs performed. Please wait.\n",
      "32 out of 56 runs performed. Please wait.\n",
      "33 out of 56 runs performed. Please wait.\n",
      "34 out of 56 runs performed. Please wait.\n",
      "35 out of 56 runs performed. Please wait.\n",
      "36 out of 56 runs performed. Please wait.\n",
      "37 out of 56 runs performed. Please wait.\n",
      "38 out of 56 runs performed. Please wait.\n",
      "39 out of 56 runs performed. Please wait.\n",
      "40 out of 56 runs performed. Please wait.\n",
      "41 out of 56 runs performed. Please wait.\n",
      "42 out of 56 runs performed. Please wait.\n",
      "43 out of 56 runs performed. Please wait.\n",
      "44 out of 56 runs performed. Please wait.\n",
      "45 out of 56 runs performed. Please wait.\n",
      "46 out of 56 runs performed. Please wait.\n",
      "47 out of 56 runs performed. Please wait.\n",
      "48 out of 56 runs performed. Please wait.\n",
      "49 out of 56 runs performed. Please wait.\n",
      "50 out of 56 runs performed. Please wait.\n",
      "51 out of 56 runs performed. Please wait.\n",
      "52 out of 56 runs performed. Please wait.\n",
      "53 out of 56 runs performed. Please wait.\n",
      "54 out of 56 runs performed. Please wait.\n",
      "55 out of 56 runs performed. Please wait.\n",
      "56 out of 56 runs performed. Please wait.\n"
     ]
    }
   ],
   "source": [
    "# Set the working directory at one place so all files are overwritten at the same place (Avoids creating hundreds or thousands\n",
    "# of folders with each run's data)\n",
    "workdir = Path(tempfile.mkdtemp())\n",
    "\n",
    "# Pre-define the results matrix based on the number of parameters we will test (and thus how many runs we will need to do). We will test SA with\n",
    "# two objective functions (NSE and AbsErr). Let's pre-define both vectors now.\n",
    "Y_NSE = np.zeros([param_values.shape[0]])\n",
    "Y_ABS = np.zeros([param_values.shape[0]])\n",
    "\n",
    "# Define a run name for files\n",
    "run_name = \"SA_Sobol\"\n",
    "\n",
    "config = dict(\n",
    "    ObservationData=[rc.ObservationData.from_nc(nc_file, alt_names=\"qobs\")],\n",
    "    Gauge=[rc.Gauge.from_nc(nc_file, alt_names=alt_names, data_kwds=data_kwds)],\n",
    "    HRUs=[hru],\n",
    "    StartDate=dt.datetime(1990, 1, 1),\n",
    "    EndDate=dt.datetime(1999, 12, 31),\n",
    "    RunName=run_name,\n",
    "    EvaluationMetrics=eval_metrics,  # We add this code to tell Raven which objective function we want to pass.\n",
    "    SuppressOutput=True,  # This suppresses the writing of files to disk, returning only basic information such as the evaluation metrics values.\n",
    ")\n",
    "\n",
    "\n",
    "# Now we have a loop that runs the model iteratively, once per parameter set:\n",
    "for i, X in enumerate(param_values):\n",
    "    # We need to create the desired model with its parameters the same way as in the Notebook 04_Emulating_hydrological_models.\n",
    "    m = GR4JCN(\n",
    "        params=X.tolist(),  # Here is where we pass the paramter sets to the model, from the loop enumerator X.\n",
    "        **config,\n",
    "    )\n",
    "\n",
    "    # Write the files to disk, and overwrite existing files in the folder (we already got the values we needed from previous runs)\n",
    "    m.write_rv(workdir=workdir, overwrite=True)\n",
    "\n",
    "    # Run the model and get the path to the outputs folder that can be used in the output reader.\n",
    "    outputs_path = run(modelname=run_name, configdir=workdir)\n",
    "\n",
    "    # Get the outputs using the Output Reader object.\n",
    "    outputs = OutputReader(run_name=run_name, path=outputs_path)\n",
    "\n",
    "    # Gather the results for both of the desired objective functions. We will see how the choice of objective function impacts sensitivity.\n",
    "    Y_NSE[i] = outputs.diagnostics[\"DIAG_NASH_SUTCLIFFE\"][0]\n",
    "    Y_ABS[i] = outputs.diagnostics[\"DIAG_ABSERR\"][0]\n",
    "\n",
    "    # Print the status of the hydrological modelling runs.\n",
    "    print(\n",
    "        str(i + 1)\n",
    "        + \" out of \"\n",
    "        + str(param_values.shape[0])\n",
    "        + \" runs performed. Please wait.\"\n",
    "    )"
   ]
  },
  {
   "cell_type": "markdown",
   "metadata": {},
   "source": [
    "## Sensitivity analysis step 3: Analyze results and obtain parameter sensitivity indices\n",
    "\n",
    "At this point, we have a model response for each of the parameter sets. We can analyze the results using the code below. We will display only the total and 1st order sensitivities."
   ]
  },
  {
   "cell_type": "code",
   "execution_count": 4,
   "metadata": {
    "tags": []
   },
   "outputs": [
    {
     "name": "stdout",
     "output_type": "stream",
     "text": [
      "           ST   ST_conf\n",
      "x1   0.379755  0.412470\n",
      "x2   3.951079  4.277464\n",
      "x3   0.817404  0.706167\n",
      "x4   0.018082  0.042282\n",
      "CN1  0.001306  0.014531\n",
      "CN2  0.039689  0.050031\n",
      "           S1   S1_conf\n",
      "x1   0.758170  1.225126\n",
      "x2  -2.602254  3.146394\n",
      "x3  -1.267410  1.067809\n",
      "x4   0.154981  0.570345\n",
      "CN1  0.047907  0.252695\n",
      "CN2  0.269812  0.565875\n",
      "                   S2    S2_conf\n",
      "(x1, x2)    32.689367  38.520285\n",
      "(x1, x3)    17.576873  20.907644\n",
      "(x1, x4)     4.280166   5.520463\n",
      "(x1, CN1)    5.621395   7.093809\n",
      "(x1, CN2)    3.630504   4.881342\n",
      "(x2, x3)     5.204038   3.476739\n",
      "(x2, x4)     3.943612   3.646842\n",
      "(x2, CN1)    3.985238   3.786346\n",
      "(x2, CN2)    3.768349   4.080534\n",
      "(x3, x4)     2.068058   1.709529\n",
      "(x3, CN1)    2.032927   2.056435\n",
      "(x3, CN2)    1.937827   1.429686\n",
      "(x4, CN1)   -0.166094   0.681523\n",
      "(x4, CN2)   -0.174896   0.600854\n",
      "(CN1, CN2)  -0.061728   0.257433\n",
      "[ 0.75816978 -2.60225424 -1.26740975  0.15498148  0.04790724  0.26981225]\n"
     ]
    }
   ],
   "source": [
    "# Perform analysis for the NSE objective function first\n",
    "Si = sobol_analyzer.analyze(problem, Y_NSE, print_to_console=True)\n",
    "\n",
    "# Print the first-order sensitivity indices\n",
    "print(Si[\"S1\"])"
   ]
  },
  {
   "cell_type": "code",
   "execution_count": 5,
   "metadata": {
    "tags": []
   },
   "outputs": [
    {
     "name": "stdout",
     "output_type": "stream",
     "text": [
      "           ST   ST_conf\n",
      "x1   0.074128  2.832662\n",
      "x2   0.592907  9.442068\n",
      "x3   0.062538  1.799786\n",
      "x4   0.001134  0.052102\n",
      "CN1  0.000129  0.005306\n",
      "CN2  0.045190  2.191904\n",
      "           S1   S1_conf\n",
      "x1  -0.041123  1.257697\n",
      "x2   0.880993  2.098604\n",
      "x3  -0.060452  1.121361\n",
      "x4  -0.003788  0.176675\n",
      "CN1 -0.002432  0.053261\n",
      "CN2  0.068965  1.111757\n",
      "                  S2   S2_conf\n",
      "(x1, x2)    0.152554  9.004543\n",
      "(x1, x3)    0.051138  4.004951\n",
      "(x1, x4)   -0.007737  0.657525\n",
      "(x1, CN1)  -0.000284  0.382640\n",
      "(x1, CN2)  -0.072163  4.178101\n",
      "(x2, x3)   -0.255076  7.009165\n",
      "(x2, x4)   -0.230651  0.886730\n",
      "(x2, CN1)  -0.236764  0.262212\n",
      "(x2, CN2)  -0.223305  7.083388\n",
      "(x3, x4)    0.337321  0.782419\n",
      "(x3, CN1)   0.336869  0.866348\n",
      "(x3, CN2)   0.303673  1.816981\n",
      "(x4, CN1)   0.001250  0.127584\n",
      "(x4, CN2)  -0.006689  0.466249\n",
      "(CN1, CN2) -0.003203  0.122958\n",
      "[-0.04112282  0.88099262 -0.06045177 -0.00378769 -0.00243184  0.06896523]\n"
     ]
    }
   ],
   "source": [
    "# Now perform the sensitivity analysis for the Absolute Error objective function\n",
    "Si = sobol_analyzer.analyze(problem, Y_ABS, print_to_console=True)\n",
    "\n",
    "# Print the first-order sensitivity indices\n",
    "print(Si[\"S1\"])"
   ]
  },
  {
   "cell_type": "markdown",
   "metadata": {},
   "source": [
    "## Result analysis\n",
    "\n",
    "We can see that parameters x2 and x3 are more sensitive than the other with total (ST) and 1st order (S1) sensitivities higher than the other parameters. This is true for both objective functions, but could also be different for other metrics, so it is important to keep this in mind when using a sensitivity analysis to determine parameter importance! A common example is a parameter related to snowmelt. This parameter will have no impact if there is no snow during the period used in the model, but would become critical if there were to be snow in following years.\n",
    "\n",
    "Note that the tables above present the sobol sensitivity in the left column and the confidence interval (95%) in the right column. Values are strange because we are using way too few parameter sets to adequately sample the parameter space here, but increasing the value of \"N\" to 1024 or 2048 would allow for a much better estimation for a 6-parameter model."
   ]
  }
 ],
 "metadata": {
  "kernelspec": {
   "display_name": "Python 3 (ipykernel)",
   "language": "python",
   "name": "python3"
  },
  "language_info": {
   "codemirror_mode": {
    "name": "ipython",
    "version": 3
   },
   "file_extension": ".py",
   "mimetype": "text/x-python",
   "name": "python",
   "nbconvert_exporter": "python",
   "pygments_lexer": "ipython3",
   "version": "3.9.16"
  }
 },
 "nbformat": 4,
 "nbformat_minor": 4
}
