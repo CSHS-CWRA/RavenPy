{
 "cells": [
  {
   "cell_type": "markdown",
   "metadata": {},
   "source": [
    "# 09 - Hydrological impacts of climate change"
   ]
  },
  {
   "cell_type": "markdown",
   "metadata": {},
   "source": [
    "## Performing bias correction on climate model data to perform climate change impact studies on hydrology\n",
    "\n",
    "This notebook will allow evaluating the impacts of climate change on the hydrology of a catchment. We will use the data we previously generated in notebook \"08 - Getting and bias-correcting CMIP6 data\", where we produced both reference and future forcing datasets.\n",
    "\n",
    "You can apply this notebook to other models, climate datasets, and generally pick and choose parts of various notebooks to build your own complete workflow."
   ]
  },
  {
   "cell_type": "code",
   "execution_count": null,
   "metadata": {},
   "outputs": [],
   "source": [
    "\"\"\"\n",
    "Import the required packages\n",
    "\"\"\"\n",
    "import datetime as dt\n",
    "import warnings\n",
    "\n",
    "from matplotlib import pyplot as plt\n",
    "\n",
    "from ravenpy import Emulator\n",
    "from ravenpy.config import commands as rc\n",
    "from ravenpy.config.emulators import GR4JCN\n",
    "from ravenpy.utilities.testdata import get_file\n",
    "\n",
    "warnings.filterwarnings(\"ignore\")"
   ]
  },
  {
   "cell_type": "markdown",
   "metadata": {},
   "source": [
    "## Simulate the flows on the reference period\n",
    "\n",
    "In this step, we will take the reference period climate data and run the GR4J-CN hydrological model with it. We will then plot a graph to see the streamflow representative of the reference period."
   ]
  },
  {
   "cell_type": "code",
   "execution_count": null,
   "metadata": {
    "scrolled": false
   },
   "outputs": [],
   "source": [
    "# Define the hydrological response unit. We can use the information from the tutorial notebook #02! Here we are using\n",
    "# arbitrary data for a test catchment.\n",
    "hru = dict(\n",
    "    area=4250.6,\n",
    "    elevation=843.0,\n",
    "    latitude=54.4848,\n",
    "    longitude=-123.3659,\n",
    "    hru_type=\"land\",\n",
    ")\n",
    "\n",
    "# Define the start and end dates of the reference period:\n",
    "start_date = dt.datetime(1981, 1, 1)\n",
    "end_date = dt.datetime(1990, 12, 31)\n",
    "\n",
    "# We get the netCDF for testing on a server. You can replace the getfile method by a string containing the path\n",
    "# to your own netCDF\n",
    "\n",
    "reference_ds = get_file(\"notebook_inputs/reference_dataset.nc\")\n",
    "\n",
    "# Alternate names for the data in the climate data NetCDF files\n",
    "alt_names = {\n",
    "    \"TEMP_MIN\": \"tasmin\",\n",
    "    \"TEMP_MAX\": \"tasmax\",\n",
    "    \"PRECIP\": \"pr\",\n",
    "}\n",
    "\n",
    "# Types of data required by the Raven GR4JCN instance\n",
    "data_type = [\"TEMP_MAX\", \"TEMP_MIN\", \"PRECIP\"]\n",
    "data_kwds = {\n",
    "    \"ALL\": {\n",
    "        \"elevation\": hru[\"elevation\"],\n",
    "        \"latitude\": hru[\"latitude\"],\n",
    "        \"longitude\": hru[\"longitude\"],\n",
    "    }\n",
    "}\n",
    "# Start a model instance, in this case a GR4JCN model emulator.\n",
    "m = GR4JCN(\n",
    "    params=[0.529, -3.396, 407.29, 1.072, 16.9, 0.947],\n",
    "    Gauge=[\n",
    "        rc.Gauge.from_nc(\n",
    "            reference_ds,  # path to the reference period dataset.\n",
    "            data_type=data_type,\n",
    "            alt_names=alt_names,\n",
    "            data_kwds=data_kwds,\n",
    "        )\n",
    "    ],\n",
    "    HRUs=[hru],\n",
    "    StartDate=start_date,\n",
    "    EndDate=end_date,\n",
    "    RunName=\"test\",\n",
    ")\n",
    "\n",
    "# Prepare the emulator by writing files on disk\n",
    "e = Emulator(config=m)\n",
    "\n",
    "# Run the model and get the outputs.\n",
    "outputs_reference = e.run()\n",
    "\n",
    "outputs_reference.hydrograph.q_sim.plot(label=\"Reference\", color=\"blue\", lw=0.5)\n",
    "plt.legend()"
   ]
  },
  {
   "cell_type": "markdown",
   "metadata": {},
   "source": [
    "## Now do the same but for the future period!\n",
    "We will copy the block of code from above, changing only the file path (from reference dataset to future dataset) as well as the start and end dates."
   ]
  },
  {
   "cell_type": "code",
   "execution_count": null,
   "metadata": {},
   "outputs": [],
   "source": [
    "# Define the start and end dates of the reference period:\n",
    "start_date = dt.datetime(2081, 1, 1)\n",
    "end_date = dt.datetime(2090, 12, 31)\n",
    "\n",
    "# Get the future period dataset (path)\n",
    "future_ds = get_file(\"notebook_inputs/future_dataset.nc\")\n",
    "\n",
    "# Start a new model instance, again in this case a GR4JCN model emulator.\n",
    "m = GR4JCN(\n",
    "    params=[0.529, -3.396, 407.29, 1.072, 16.9, 0.947],\n",
    "    Gauge=[\n",
    "        rc.Gauge.from_nc(\n",
    "            # name of the future period dataset.\n",
    "            future_ds,\n",
    "            data_type=data_type,\n",
    "            alt_names=alt_names,\n",
    "            data_kwds=data_kwds,\n",
    "        )\n",
    "    ],\n",
    "    HRUs=[hru],\n",
    "    StartDate=start_date,\n",
    "    EndDate=end_date,\n",
    "    RunName=\"test\",\n",
    ")\n",
    "\n",
    "# Prepare the emulator by writing files on disk\n",
    "e = Emulator(config=m)\n",
    "\n",
    "# Run the model and get the outputs.\n",
    "outputs_future = e.run()\n",
    "\n",
    "outputs_future.hydrograph.q_sim.plot(label=\"Future\", color=\"orange\", lw=0.5)\n",
    "plt.legend()"
   ]
  },
  {
   "cell_type": "markdown",
   "metadata": {},
   "source": [
    "## You have just generated streamflows for the reference and future periods!\n",
    "We can analyze these hydrographs with many tools in PAVICS-Hydro, or export them to use elsewhere, or use them as inputs to another process!"
   ]
  },
  {
   "cell_type": "code",
   "execution_count": null,
   "metadata": {},
   "outputs": [],
   "source": [
    "# Get the path to the hydrograph file:\n",
    "outputs_future.files[\"hydrograph\"]"
   ]
  },
  {
   "cell_type": "code",
   "execution_count": null,
   "metadata": {},
   "outputs": [],
   "source": [
    "# Work with the hydrograph data directly:\n",
    "outputs_future.hydrograph"
   ]
  }
 ],
 "metadata": {
  "kernelspec": {
   "display_name": "Python 3 (ipykernel)",
   "language": "python",
   "name": "python3"
  },
  "language_info": {
   "codemirror_mode": {
    "name": "ipython",
    "version": 3
   },
   "file_extension": ".py",
   "mimetype": "text/x-python",
   "name": "python",
   "nbconvert_exporter": "python",
   "pygments_lexer": "ipython3",
   "version": "3.10.9"
  }
 },
 "nbformat": 4,
 "nbformat_minor": 4
}
