{
 "cells": [
  {
   "cell_type": "markdown",
   "id": "2aab08fd",
   "metadata": {},
   "source": [
    "# 06_Raven_calibration.ipynb"
   ]
  },
  {
   "cell_type": "markdown",
   "id": "be464b41",
   "metadata": {},
   "source": [
    "## Calibration of a Raven model\n",
    "\n",
    "In this notebook, we show how to calibrate a Raven model using the GR4J-CN predefined structure. The users can refer themselves to the documentation to the parameterization of other hydrological model structures."
   ]
  },
  {
   "cell_type": "code",
   "execution_count": 68,
   "id": "4711607c",
   "metadata": {},
   "outputs": [],
   "source": [
    "import datetime as dt\n",
    "import os\n",
    "from glob import glob\n",
    "from pathlib import Path\n",
    "\n",
    "from ravenpy.utilities.testdata import get_file, get_local_testdata"
   ]
  },
  {
   "cell_type": "code",
   "execution_count": 69,
   "id": "2d82040e",
   "metadata": {},
   "outputs": [],
   "source": [
    "from ravenpy.models import GR4JCN, GR4JCN_OST"
   ]
  },
  {
   "cell_type": "markdown",
   "id": "d9234c55",
   "metadata": {},
   "source": [
    "## Preparing the model to be calibrated on a given watershed\n",
    "A random watershed is selected for this test. It can be replaced with any desired watershed."
   ]
  },
  {
   "cell_type": "code",
   "execution_count": 70,
   "id": "4210ca3d",
   "metadata": {},
   "outputs": [
    {
     "data": {
      "text/plain": [
       "PosixPath('/notebook_dir/writable-workspace/.home/.raven_testing_data/master/raven-gr4j-cemaneige/Salmon-River-Near-Prince-George_meteo_daily.nc')"
      ]
     },
     "metadata": {},
     "output_type": "display_data"
    }
   ],
   "source": [
    "forcing = get_file(\n",
    "    \"raven-gr4j-cemaneige/Salmon-River-Near-Prince-George_meteo_daily.nc\"\n",
    ")\n",
    "\n",
    "# Display the datasets that we will be using\n",
    "display(forcing)"
   ]
  },
  {
   "cell_type": "markdown",
   "id": "2f27e994",
   "metadata": {},
   "source": [
    "The selected model will be calibrated using the Ostrich library.\n",
    "\n",
    "For other model structures (e.g. HMETS, MOHYSE or HBV-EC, please refer to the user manual)."
   ]
  },
  {
   "cell_type": "code",
   "execution_count": 71,
   "id": "3653f093",
   "metadata": {},
   "outputs": [],
   "source": [
    "# Using Ostrich with the GR4JCN model\n",
    "model = GR4JCN_OST()\n",
    "salmon_land_hru_1 = dict(\n",
    "    area=4250.6, elevation=843.0, latitude=54.4848, longitude=-123.3659\n",
    ")"
   ]
  },
  {
   "cell_type": "code",
   "execution_count": 72,
   "id": "6f998b60",
   "metadata": {},
   "outputs": [],
   "source": [
    "model.rvh.hrus = (GR4JCN.LandHRU(**salmon_land_hru_1),)"
   ]
  },
  {
   "cell_type": "markdown",
   "id": "7341ebfc",
   "metadata": {},
   "source": [
    "Ostrich requires a set of initial parameters `params` and its `lower` and `upper` boundaries"
   ]
  },
  {
   "cell_type": "code",
   "execution_count": 75,
   "id": "37fabc4a",
   "metadata": {},
   "outputs": [],
   "source": [
    "params = (0.529, -3.396, 407.29, 1.072, 16.9, 0.053)\n",
    "lower = (0.01, -15.0, 10.0, 0.0, 1.0, 0.0)\n",
    "upper = (2.5, 10.0, 700.0, 7.0, 30.0, 1.0)"
   ]
  },
  {
   "cell_type": "markdown",
   "id": "b0a26749",
   "metadata": {},
   "source": [
    "## Calibration of the selected model\n",
    "The model can be calibrated by feeding it the following informations:\n",
    "* forcing: input hydrometeorological data in the right model format\n",
    "* start_date: starting date of the simulation\n",
    "* duration: number of days to simulate\n",
    "* params: initial parameters' values\n",
    "* lowerBounds: lower boundaries of the parameters\n",
    "* upperBounds: upper boundaries of the parameters\n",
    "* algorithm: the optimization algorithm\n",
    "* random_seed=0,\n",
    "* max_iterations: maximum number of model iterations performed by the algoritm\n",
    "* overwrite: overwrite any previous parameter set"
   ]
  },
  {
   "cell_type": "code",
   "execution_count": 74,
   "id": "b05132f2",
   "metadata": {},
   "outputs": [],
   "source": [
    "# Here, the DDS algorithm with a maximum of 50 model iterations is used.\n",
    "model(\n",
    "    forcing,\n",
    "    start_date=dt.datetime(1980, 1, 1),\n",
    "    duration=200,\n",
    "    params=params,\n",
    "    lowerBounds=lower,\n",
    "    upperBounds=upper,\n",
    "    algorithm=\"DDS\",\n",
    "    random_seed=0,\n",
    "    max_iterations=50,\n",
    "    overwrite=True,\n",
    ")\n",
    "\n",
    "d = model.diagnostics"
   ]
  },
  {
   "cell_type": "markdown",
   "id": "4105b16d",
   "metadata": {},
   "source": [
    "## Analysing the calibration results\n",
    "The best parameter set as well as objective functions can be analyzed."
   ]
  },
  {
   "cell_type": "code",
   "execution_count": 76,
   "id": "04825b49",
   "metadata": {},
   "outputs": [
    {
     "name": "stdout",
     "output_type": "stream",
     "text": [
      "Nash-Sutcliffe value is: 0.216967\n",
      "GR4JParams(GR4J_X1=1.405122, GR4J_X2=2.054828, GR4J_X3=178.1356, GR4J_X4=4.735231, CEMANEIGE_X1=7.471336, CEMANEIGE_X2=0.1630644)\n",
      "[1.405122e+00 2.054828e+00 1.781356e+02 4.735231e+00 7.471336e+00\n",
      " 1.630644e-01]\n"
     ]
    }
   ],
   "source": [
    "print(\"Nash-Sutcliffe value is: \" + str(d[\"DIAG_NASH_SUTCLIFFE\"]))\n",
    "print(model.calibrated_params)  # With explanations of what these parameters are\n",
    "print(\n",
    "    model.optimized_parameters\n",
    ")  # Just the array that could be used in another process. This is what people will want to use."
   ]
  }
 ],
 "metadata": {
  "kernelspec": {
   "display_name": "Python 3",
   "language": "python",
   "name": "python3"
  },
  "language_info": {
   "codemirror_mode": {
    "name": "ipython",
    "version": 3
   },
   "file_extension": ".py",
   "mimetype": "text/x-python",
   "name": "python",
   "nbconvert_exporter": "python",
   "pygments_lexer": "ipython3",
   "version": "3.7.10"
  }
 },
 "nbformat": 4,
 "nbformat_minor": 5
}
